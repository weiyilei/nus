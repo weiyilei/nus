{
 "cells": [
  {
   "cell_type": "markdown",
   "metadata": {
    "application/vnd.databricks.v1+cell": {
     "cellMetadata": {},
     "inputWidgets": {},
     "nuid": "36f9f228-a6d4-4112-ac74-64a0b564ac85",
     "showTitle": false,
     "title": ""
    }
   },
   "source": [
    "# CS4225/CS5425 Assignment 2"
   ]
  },
  {
   "cell_type": "markdown",
   "metadata": {
    "application/vnd.databricks.v1+cell": {
     "cellMetadata": {},
     "inputWidgets": {},
     "nuid": "ccfc2f1b-1142-4a36-ae5a-3a1deca6548a",
     "showTitle": false,
     "title": ""
    }
   },
   "source": [
    "## 1. Data Preparation"
   ]
  },
  {
   "cell_type": "code",
   "execution_count": 0,
   "metadata": {
    "application/vnd.databricks.v1+cell": {
     "cellMetadata": {
      "byteLimit": 2048000,
      "rowLimit": 10000
     },
     "inputWidgets": {},
     "nuid": "f657236b-404d-44bc-919a-f60f239552ee",
     "showTitle": false,
     "title": ""
    }
   },
   "outputs": [
    {
     "output_type": "stream",
     "name": "stderr",
     "output_type": "stream",
     "text": [
      "  % Total    % Received % Xferd  Average Speed   Time    Time     Time  Current\n                                 Dload  Upload   Total   Spent    Left  Speed\n\r  0     0    0     0    0     0      0      0 --:--:-- --:--:-- --:--:--     0\r  0 33.9M    0 32289    0     0  55124      0  0:10:45 --:--:--  0:10:45 55100\r 51 33.9M   51 17.3M    0     0  10.9M      0  0:00:03  0:00:01  0:00:02 10.9M\r100 33.9M  100 33.9M    0     0  15.5M      0  0:00:02  0:00:02 --:--:-- 15.5M\n"
     ]
    },
    {
     "output_type": "stream",
     "name": "stdout",
     "output_type": "stream",
     "text": [
      "Archive:  /tmp/202201-citibike-tripdata.csv.zip\n  inflating: 202201-citibike-tripdata.csv  \n  inflating: __MACOSX/._202201-citibike-tripdata.csv  \n"
     ]
    },
    {
     "output_type": "stream",
     "name": "stderr",
     "output_type": "stream",
     "text": [
      "  % Total    % Received % Xferd  Average Speed   Time    Time     Time  Current\n                                 Dload  Upload   Total   Spent    Left  Speed\n\r  0     0    0     0    0     0      0      0 --:--:-- --:--:-- --:--:--     0\r  0 41.4M    0     0    0     0      0      0 --:--:-- --:--:-- --:--:--     0\r 36 41.4M   36 15.0M    0     0  10.8M      0  0:00:03  0:00:01  0:00:02 10.8M\r 82 41.4M   82 34.3M    0     0  14.2M      0  0:00:02  0:00:02 --:--:-- 14.2M\r100 41.4M  100 41.4M    0     0  15.3M      0  0:00:02  0:00:02 --:--:-- 15.2M\n"
     ]
    },
    {
     "output_type": "stream",
     "name": "stdout",
     "output_type": "stream",
     "text": [
      "Archive:  /tmp/202202-citibike-tripdata.csv.zip\n  inflating: 202202-citibike-tripdata.csv  \n  inflating: __MACOSX/._202202-citibike-tripdata.csv  \n"
     ]
    },
    {
     "output_type": "stream",
     "name": "stderr",
     "output_type": "stream",
     "text": [
      "  % Total    % Received % Xferd  Average Speed   Time    Time     Time  Current\n                                 Dload  Upload   Total   Spent    Left  Speed\n\r  0     0    0     0    0     0      0      0 --:--:-- --:--:-- --:--:--     0\r  0 63.3M    0  254k    0     0   330k      0  0:03:16 --:--:--  0:03:16  330k\r 34 63.3M   34 21.6M    0     0  12.2M      0  0:00:05  0:00:01  0:00:04 12.2M\r 73 63.3M   73 46.6M    0     0  16.8M      0  0:00:03  0:00:02  0:00:01 16.8M\r100 63.3M  100 63.3M    0     0  18.6M      0  0:00:03  0:00:03 --:--:-- 18.6M\n"
     ]
    },
    {
     "output_type": "stream",
     "name": "stdout",
     "output_type": "stream",
     "text": [
      "Archive:  /tmp/202203-citibike-tripdata.csv.zip\n  inflating: 202203-citibike-tripdata.csv  \n  inflating: __MACOSX/._202203-citibike-tripdata.csv  \n"
     ]
    },
    {
     "output_type": "stream",
     "name": "stderr",
     "output_type": "stream",
     "text": [
      "  % Total    % Received % Xferd  Average Speed   Time    Time     Time  Current\n                                 Dload  Upload   Total   Spent    Left  Speed\n\r  0     0    0     0    0     0      0      0 --:--:-- --:--:-- --:--:--     0\r  0     0    0     0    0     0      0      0 --:--:-- --:--:-- --:--:--     0\r  4 76.9M    4 3412k    0     0  2789k      0  0:00:28  0:00:01  0:00:27 2788k\r 37 76.9M   37 28.7M    0     0  12.9M      0  0:00:05  0:00:02  0:00:03 12.9M\r 72 76.9M   72 55.5M    0     0  17.1M      0  0:00:04  0:00:03  0:00:01 17.1M\r100 76.9M  100 76.9M    0     0  18.9M      0  0:00:04  0:00:04 --:--:-- 18.9M\n"
     ]
    },
    {
     "output_type": "stream",
     "name": "stdout",
     "output_type": "stream",
     "text": [
      "Archive:  /tmp/202204-citibike-tripdata.csv.zip\n  inflating: 202204-citibike-tripdata.csv  \n  inflating: __MACOSX/._202204-citibike-tripdata.csv  \n"
     ]
    },
    {
     "output_type": "stream",
     "name": "stderr",
     "output_type": "stream",
     "text": [
      "  % Total    % Received % Xferd  Average Speed   Time    Time     Time  Current\n                                 Dload  Upload   Total   Spent    Left  Speed\n\r  0     0    0     0    0     0      0      0 --:--:-- --:--:-- --:--:--     0\r  0 97.7M    0 17038    0     0  27650      0  1:01:46 --:--:--  1:01:46 27614\r 16 97.7M   16 16.1M    0     0  10.0M      0  0:00:09  0:00:01  0:00:08 10.0M\r 41 97.7M   41 40.8M    0     0  15.5M      0  0:00:06  0:00:02  0:00:04 15.5M\r 63 97.7M   63 62.5M    0     0  17.2M      0  0:00:05  0:00:03  0:00:02 17.2M\r 92 97.7M   92 89.9M    0     0  19.5M      0  0:00:04  0:00:04 --:--:-- 19.5M\r100 97.7M  100 97.7M    0     0  19.9M      0  0:00:04  0:00:04 --:--:-- 22.8M\n"
     ]
    },
    {
     "output_type": "stream",
     "name": "stdout",
     "output_type": "stream",
     "text": [
      "Archive:  /tmp/202205-citibike-tripdata.csv.zip\n  inflating: 202205-citibike-tripdata.csv  \n  inflating: __MACOSX/._202205-citibike-tripdata.csv  \n"
     ]
    },
    {
     "output_type": "stream",
     "name": "stderr",
     "output_type": "stream",
     "text": [
      "  % Total    % Received % Xferd  Average Speed   Time    Time     Time  Current\n                                 Dload  Upload   Total   Spent    Left  Speed\n\r  0     0    0     0    0     0      0      0 --:--:-- --:--:-- --:--:--     0\r  0     0    0     0    0     0      0      0 --:--:-- --:--:-- --:--:--     0\r  1  116M    1 1340k    0     0  1303k      0  0:01:31  0:00:01  0:01:30 1302k\r 22  116M   22 26.3M    0     0  12.8M      0  0:00:09  0:00:02  0:00:07 12.8M\r 44  116M   44 52.2M    0     0  17.2M      0  0:00:06  0:00:03  0:00:03 17.2M\r 65  116M   65 75.8M    0     0  18.8M      0  0:00:06  0:00:04  0:00:02 18.8M\r 86  116M   86  100M    0     0  19.9M      0  0:00:05  0:00:05 --:--:-- 20.2M\r100  116M  100  116M    0     0  20.5M      0  0:00:05  0:00:05 --:--:-- 24.8M\n"
     ]
    },
    {
     "output_type": "stream",
     "name": "stdout",
     "output_type": "stream",
     "text": [
      "Archive:  /tmp/202206-citbike-tripdata.csv.zip\n  inflating: 202206-citbike-tripdata.csv  \n  inflating: __MACOSX/._202206-citbike-tripdata.csv  \n"
     ]
    },
    {
     "output_type": "stream",
     "name": "stderr",
     "output_type": "stream",
     "text": [
      "  % Total    % Received % Xferd  Average Speed   Time    Time     Time  Current\n                                 Dload  Upload   Total   Spent    Left  Speed\n\r  0     0    0     0    0     0      0      0 --:--:-- --:--:-- --:--:--     0\r  0  111M    0 15903    0     0  28162      0  1:09:03 --:--:--  1:09:03 28146\r  9  111M    9 10.1M    0     0  6900k      0  0:00:16  0:00:01  0:00:15 6901k\r 30  111M   30 34.1M    0     0  13.6M      0  0:00:08  0:00:02  0:00:06 13.6M\r 52  111M   52 58.2M    0     0  16.6M      0  0:00:06  0:00:03  0:00:03 16.6M\r 74  111M   74 82.9M    0     0  18.4M      0  0:00:06  0:00:04  0:00:02 18.4M\r 95  111M   95  106M    0     0  19.2M      0  0:00:05  0:00:05 --:--:-- 21.4M\r100  111M  100  111M    0     0  19.4M      0  0:00:05  0:00:05 --:--:-- 23.9M\n"
     ]
    },
    {
     "output_type": "stream",
     "name": "stdout",
     "output_type": "stream",
     "text": [
      "Archive:  /tmp/202207-citbike-tripdata.csv.zip\n  inflating: 202207-citbike-tripdata.csv  \n  inflating: __MACOSX/._202207-citbike-tripdata.csv  \n"
     ]
    },
    {
     "output_type": "stream",
     "name": "stderr",
     "output_type": "stream",
     "text": [
      "  % Total    % Received % Xferd  Average Speed   Time    Time     Time  Current\n                                 Dload  Upload   Total   Spent    Left  Speed\n\r  0     0    0     0    0     0      0      0 --:--:-- --:--:-- --:--:--     0\r  0     0    0     0    0     0      0      0 --:--:-- --:--:-- --:--:--     0\r  4  126M    4 6172k    0     0  4841k      0  0:00:26  0:00:01  0:00:25 4841k\r 19  126M   19 25.0M    0     0  11.1M      0  0:00:11  0:00:02  0:00:09 11.1M\r 39  126M   39 49.4M    0     0  15.2M      0  0:00:08  0:00:03  0:00:05 15.2M\r 57  126M   57 73.2M    0     0  17.2M      0  0:00:07  0:00:04  0:00:03 17.2M\r 77  126M   77 98.1M    0     0  18.7M      0  0:00:06  0:00:05  0:00:01 19.6M\r 97  126M   97  123M    0     0  19.8M      0  0:00:06  0:00:06 --:--:-- 23.7M\r100  126M  100  126M    0     0  19.9M      0  0:00:06  0:00:06 --:--:-- 24.7M\n"
     ]
    },
    {
     "output_type": "stream",
     "name": "stdout",
     "output_type": "stream",
     "text": [
      "Archive:  /tmp/202208-citibike-tripdata.csv.zip\n  inflating: 202208-citibike-tripdata.csv  \n  inflating: __MACOSX/._202208-citibike-tripdata.csv  \n"
     ]
    },
    {
     "output_type": "stream",
     "name": "stderr",
     "output_type": "stream",
     "text": [
      "  % Total    % Received % Xferd  Average Speed   Time    Time     Time  Current\n                                 Dload  Upload   Total   Spent    Left  Speed\n\r  0     0    0     0    0     0      0      0 --:--:-- --:--:-- --:--:--     0\r  0  118M    0  456k    0     0   575k      0  0:03:31 --:--:--  0:03:31  574k\r 20  118M   20 24.5M    0     0  13.6M      0  0:00:08  0:00:01  0:00:07 13.6M\r 41  118M   41 49.6M    0     0  17.7M      0  0:00:06  0:00:02  0:00:04 17.7M\r 66  118M   66 79.1M    0     0  20.8M      0  0:00:05  0:00:03  0:00:02 20.8M\r 93  118M   93  110M    0     0  23.0M      0  0:00:05  0:00:04  0:00:01 23.0M\r100  118M  100  118M    0     0  22.5M      0  0:00:05  0:00:05 --:--:-- 26.4M\n"
     ]
    },
    {
     "output_type": "stream",
     "name": "stdout",
     "output_type": "stream",
     "text": [
      "Archive:  /tmp/202209-citibike-tripdata.csv.zip\n  inflating: 202209-citibike-tripdata.csv  \n  inflating: __MACOSX/._202209-citibike-tripdata.csv  \n"
     ]
    },
    {
     "output_type": "stream",
     "name": "stderr",
     "output_type": "stream",
     "text": [
      "  % Total    % Received % Xferd  Average Speed   Time    Time     Time  Current\n                                 Dload  Upload   Total   Spent    Left  Speed\n\r  0     0    0     0    0     0      0      0 --:--:-- --:--:-- --:--:--     0\r  0  110M    0  109k    0     0   153k      0  0:12:18 --:--:--  0:12:18  153k\r 16  110M   16 18.3M    0     0  10.8M      0  0:00:10  0:00:01  0:00:09 10.8M\r 38  110M   38 43.0M    0     0  15.9M      0  0:00:06  0:00:02  0:00:04 15.9M\r 61  110M   61 67.9M    0     0  18.3M      0  0:00:06  0:00:03  0:00:03 18.3M\r 85  110M   85 94.2M    0     0  20.0M      0  0:00:05  0:00:04  0:00:01 20.0M\r100  110M  100  110M    0     0  20.8M      0  0:00:05  0:00:05 --:--:-- 24.1M\n"
     ]
    },
    {
     "output_type": "stream",
     "name": "stdout",
     "output_type": "stream",
     "text": [
      "Archive:  /tmp/202210-citibike-tripdata.csv.zip\n  inflating: 202210-citibike-tripdata.csv  \n  inflating: __MACOSX/._202210-citibike-tripdata.csv  \n"
     ]
    },
    {
     "output_type": "stream",
     "name": "stderr",
     "output_type": "stream",
     "text": [
      "  % Total    % Received % Xferd  Average Speed   Time    Time     Time  Current\n                                 Dload  Upload   Total   Spent    Left  Speed\n\r  0     0    0     0    0     0      0      0 --:--:-- --:--:-- --:--:--     0\r  0 92.5M    0  135k    0     0   183k      0  0:08:36 --:--:--  0:08:36  183k\r 20 92.5M   20 18.8M    0     0  10.9M      0  0:00:08  0:00:01  0:00:07 10.9M\r 48 92.5M   48 44.8M    0     0  16.3M      0  0:00:05  0:00:02  0:00:03 16.3M\r 74 92.5M   74 69.3M    0     0  18.6M      0  0:00:04  0:00:03  0:00:01 18.6M\r100 92.5M  100 92.5M    0     0  19.9M      0  0:00:04  0:00:04 --:--:-- 20.0M\n"
     ]
    },
    {
     "output_type": "stream",
     "name": "stdout",
     "output_type": "stream",
     "text": [
      "Archive:  /tmp/202211-citibike-tripdata.csv.zip\n  inflating: 202211-citibike-tripdata.csv  \n  inflating: __MACOSX/._202211-citibike-tripdata.csv  \n"
     ]
    },
    {
     "output_type": "stream",
     "name": "stderr",
     "output_type": "stream",
     "text": [
      "  % Total    % Received % Xferd  Average Speed   Time    Time     Time  Current\n                                 Dload  Upload   Total   Spent    Left  Speed\n\r  0     0    0     0    0     0      0      0 --:--:-- --:--:-- --:--:--     0\r  0     0    0     0    0     0      0      0 --:--:-- --:--:-- --:--:--     0\r 16 58.3M   16 9726k    0     0  7218k      0  0:00:08  0:00:01  0:00:07 7215k\r 58 58.3M   58 33.9M    0     0  14.6M      0  0:00:03  0:00:02  0:00:01 14.6M\r100 58.3M  100 58.3M    0     0  18.0M      0  0:00:03  0:00:03 --:--:-- 18.0M\n"
     ]
    },
    {
     "output_type": "stream",
     "name": "stdout",
     "output_type": "stream",
     "text": [
      "Archive:  /tmp/202212-citibike-tripdata.csv.zip\n  inflating: 202212-citibike-tripdata.csv  \n  inflating: __MACOSX/._202212-citibike-tripdata.csv  \n"
     ]
    },
    {
     "output_type": "stream",
     "name": "stderr",
     "output_type": "stream",
     "text": [
      "  % Total    % Received % Xferd  Average Speed   Time    Time     Time  Current\n                                 Dload  Upload   Total   Spent    Left  Speed\n\r  0     0    0     0    0     0      0      0 --:--:-- --:--:-- --:--:--     0\r  0 66.3M    0 59898    0     0  87696      0  0:13:12 --:--:--  0:13:12 87698\r 25 66.3M   25 17.1M    0     0  10.2M      0  0:00:06  0:00:01  0:00:05 10.2M\r 60 66.3M   60 40.3M    0     0  15.1M      0  0:00:04  0:00:02  0:00:02 15.1M\r 98 66.3M   98 65.0M    0     0  17.7M      0  0:00:03  0:00:03 --:--:-- 17.7M\r100 66.3M  100 66.3M    0     0  17.8M      0  0:00:03  0:00:03 --:--:-- 17.8M\n"
     ]
    },
    {
     "output_type": "stream",
     "name": "stdout",
     "output_type": "stream",
     "text": [
      "Archive:  /tmp/202301-citibike-tripdata.csv.zip\n  inflating: 202301-citibike-tripdata.csv  \n  inflating: __MACOSX/._202301-citibike-tripdata.csv  \n"
     ]
    },
    {
     "output_type": "stream",
     "name": "stderr",
     "output_type": "stream",
     "text": [
      "  % Total    % Received % Xferd  Average Speed   Time    Time     Time  Current\n                                 Dload  Upload   Total   Spent    Left  Speed\n\r  0     0    0     0    0     0      0      0 --:--:-- --:--:-- --:--:--     0\r  0     0    0     0    0     0      0      0 --:--:-- --:--:-- --:--:--     0\r 14 62.4M   14 9514k    0     0  7519k      0  0:00:08  0:00:01  0:00:07 7515k\r 53 62.4M   53 33.4M    0     0  14.7M      0  0:00:04  0:00:02  0:00:02 14.7M\r 92 62.4M   92 57.4M    0     0  17.7M      0  0:00:03  0:00:03 --:--:-- 17.7M\r100 62.4M  100 62.4M    0     0  18.2M      0  0:00:03  0:00:03 --:--:-- 18.2M\n"
     ]
    },
    {
     "output_type": "stream",
     "name": "stdout",
     "output_type": "stream",
     "text": [
      "Archive:  /tmp/202302-citibike-tripdata.csv.zip\n  inflating: 202302-citibike-tripdata.csv  \n  inflating: __MACOSX/._202302-citibike-tripdata.csv  \n"
     ]
    },
    {
     "output_type": "stream",
     "name": "stderr",
     "output_type": "stream",
     "text": [
      "  % Total    % Received % Xferd  Average Speed   Time    Time     Time  Current\n                                 Dload  Upload   Total   Spent    Left  Speed\n\r  0     0    0     0    0     0      0      0 --:--:-- --:--:-- --:--:--     0\r  0     0    0     0    0     0      0      0 --:--:-- --:--:-- --:--:--     0\r  0 81.8M    0  728k    0     0   658k      0  0:02:07  0:00:01  0:02:06  658k\r 30 81.8M   30 25.1M    0     0  11.8M      0  0:00:06  0:00:02  0:00:04 11.8M\r 62 81.8M   62 51.4M    0     0  16.5M      0  0:00:04  0:00:03  0:00:01 16.5M\r 94 81.8M   94 77.0M    0     0  18.7M      0  0:00:04  0:00:04 --:--:-- 18.7M\r100 81.8M  100 81.8M    0     0  19.1M      0  0:00:04  0:00:04 --:--:-- 19.9M\n"
     ]
    },
    {
     "output_type": "stream",
     "name": "stdout",
     "output_type": "stream",
     "text": [
      "Archive:  /tmp/202303-citibike-tripdata.csv.zip\n  inflating: 202303-citibike-tripdata.csv  \n  inflating: __MACOSX/._202303-citibike-tripdata.csv  \n"
     ]
    },
    {
     "output_type": "stream",
     "name": "stderr",
     "output_type": "stream",
     "text": [
      "  % Total    % Received % Xferd  Average Speed   Time    Time     Time  Current\n                                 Dload  Upload   Total   Spent    Left  Speed\n\r  0     0    0     0    0     0      0      0 --:--:-- --:--:-- --:--:--     0\r  0 99.2M    0  915k    0     0   930k      0  0:01:49 --:--:--  0:01:49  929k\r 24 99.2M   24 24.0M    0     0  11.9M      0  0:00:08  0:00:02  0:00:06 12.0M\r 50 99.2M   50 50.0M    0     0  16.8M      0  0:00:05  0:00:02  0:00:03 16.8M\r 73 99.2M   73 72.9M    0     0  18.3M      0  0:00:05  0:00:03  0:00:02 18.3M\r 99 99.2M   99 99.1M    0     0  19.8M      0  0:00:04  0:00:04 --:--:-- 19.8M\r100 99.2M  100 99.2M    0     0  19.8M      0  0:00:04  0:00:04 --:--:-- 24.5M\n"
     ]
    },
    {
     "output_type": "stream",
     "name": "stdout",
     "output_type": "stream",
     "text": [
      "Archive:  /tmp/202304-citibike-tripdata.csv.zip\n  inflating: 202304-citibike-tripdata.csv  \n  inflating: __MACOSX/._202304-citibike-tripdata.csv  \n"
     ]
    },
    {
     "output_type": "stream",
     "name": "stderr",
     "output_type": "stream",
     "text": [
      "  % Total    % Received % Xferd  Average Speed   Time    Time     Time  Current\n                                 Dload  Upload   Total   Spent    Left  Speed\n\r  0     0    0     0    0     0      0      0 --:--:-- --:--:-- --:--:--     0\r  0  130M    0  652k    0     0   684k      0  0:03:15 --:--:--  0:03:15  683k\r 18  130M   18 23.7M    0     0  12.2M      0  0:00:10  0:00:01  0:00:09 12.2M\r 38  130M   38 50.6M    0     0  17.3M      0  0:00:07  0:00:02  0:00:05 17.3M\r 58  130M   58 76.9M    0     0  19.6M      0  0:00:06  0:00:03  0:00:03 19.6M\r 79  130M   79  104M    0     0  21.2M      0  0:00:06  0:00:04  0:00:02 21.2M\r 98  130M   98  129M    0     0  21.7M      0  0:00:06  0:00:05  0:00:01 25.7M\r100  130M  100  130M    0     0  21.7M      0  0:00:06  0:00:06 --:--:-- 26.2M\n"
     ]
    },
    {
     "output_type": "stream",
     "name": "stdout",
     "output_type": "stream",
     "text": [
      "Archive:  /tmp/202305-citibike-tripdata.csv.zip\n  inflating: 202305-citibike-tripdata.csv  \n  inflating: __MACOSX/._202305-citibike-tripdata.csv  \n"
     ]
    },
    {
     "output_type": "stream",
     "name": "stderr",
     "output_type": "stream",
     "text": [
      "  % Total    % Received % Xferd  Average Speed   Time    Time     Time  Current\n                                 Dload  Upload   Total   Spent    Left  Speed\n\r  0     0    0     0    0     0      0      0 --:--:-- --:--:-- --:--:--     0\r  0  135M    0     0    0     0      0      0 --:--:-- --:--:-- --:--:--     0\r  8  135M    8 11.9M    0     0  8742k      0  0:00:15  0:00:01  0:00:14 8742k\r 28  135M   28 37.9M    0     0  15.7M      0  0:00:08  0:00:02  0:00:06 15.7M\r 47  135M   47 64.7M    0     0  19.0M      0  0:00:07  0:00:03  0:00:04 19.0M\r 67  135M   67 91.0M    0     0  20.6M      0  0:00:06  0:00:04  0:00:02 20.6M\r 86  135M   86  117M    0     0  21.7M      0  0:00:06  0:00:05  0:00:01 24.0M\r100  135M  100  135M    0     0  22.3M      0  0:00:06  0:00:06 --:--:-- 26.5M\n"
     ]
    },
    {
     "output_type": "stream",
     "name": "stdout",
     "output_type": "stream",
     "text": [
      "Archive:  /tmp/202306-citibike-tripdata.csv.zip\n  inflating: 202306-citibike-tripdata.csv  \n  inflating: __MACOSX/._202306-citibike-tripdata.csv  \n"
     ]
    },
    {
     "output_type": "stream",
     "name": "stderr",
     "output_type": "stream",
     "text": [
      "  % Total    % Received % Xferd  Average Speed   Time    Time     Time  Current\n                                 Dload  Upload   Total   Spent    Left  Speed\n\r  0     0    0     0    0     0      0      0 --:--:-- --:--:-- --:--:--     0\r  0  145M    0  101k    0     0   136k      0  0:18:16 --:--:--  0:18:16  136k\r 13  145M   13 19.1M    0     0  11.0M      0  0:00:13  0:00:01  0:00:12 11.0M\r 28  145M   28 42.1M    0     0  15.2M      0  0:00:09  0:00:02  0:00:07 15.2M\r 47  145M   47 69.3M    0     0  18.5M      0  0:00:07  0:00:03  0:00:04 18.5M\r 65  145M   65 96.1M    0     0  20.4M      0  0:00:07  0:00:04  0:00:03 20.4M\r 84  145M   84  123M    0     0  21.5M      0  0:00:06  0:00:05  0:00:01 24.7M\r100  145M  100  145M    0     0  22.2M      0  0:00:06  0:00:06 --:--:-- 26.3M\n"
     ]
    },
    {
     "output_type": "stream",
     "name": "stdout",
     "output_type": "stream",
     "text": [
      "Archive:  /tmp/202307-citibike-tripdata.csv.zip\n  inflating: 202307-citibike-tripdata.csv  \n  inflating: __MACOSX/._202307-citibike-tripdata.csv  \n"
     ]
    }
   ],
   "source": [
    "%sh curl https://s3.amazonaws.com/tripdata/202201-citibike-tripdata.csv.zip --output /tmp/202201-citibike-tripdata.csv.zip\n",
    "unzip /tmp/202201-citibike-tripdata.csv.zip\n",
    "curl https://s3.amazonaws.com/tripdata/202202-citibike-tripdata.csv.zip --output /tmp/202202-citibike-tripdata.csv.zip\n",
    "unzip /tmp/202202-citibike-tripdata.csv.zip\n",
    "curl https://s3.amazonaws.com/tripdata/202203-citibike-tripdata.csv.zip --output /tmp/202203-citibike-tripdata.csv.zip\n",
    "unzip /tmp/202203-citibike-tripdata.csv.zip\n",
    "curl https://s3.amazonaws.com/tripdata/202204-citibike-tripdata.csv.zip --output /tmp/202204-citibike-tripdata.csv.zip\n",
    "unzip /tmp/202204-citibike-tripdata.csv.zip\n",
    "curl https://s3.amazonaws.com/tripdata/202205-citibike-tripdata.csv.zip --output /tmp/202205-citibike-tripdata.csv.zip\n",
    "unzip /tmp/202205-citibike-tripdata.csv.zip\n",
    "curl https://s3.amazonaws.com/tripdata/202206-citbike-tripdata.csv.zip --output /tmp/202206-citbike-tripdata.csv.zip\n",
    "unzip /tmp/202206-citbike-tripdata.csv.zip\n",
    "curl https://s3.amazonaws.com/tripdata/202207-citbike-tripdata.csv.zip --output /tmp/202207-citbike-tripdata.csv.zip\n",
    "unzip /tmp/202207-citbike-tripdata.csv.zip\n",
    "curl https://s3.amazonaws.com/tripdata/202208-citibike-tripdata.csv.zip --output /tmp/202208-citibike-tripdata.csv.zip\n",
    "unzip /tmp/202208-citibike-tripdata.csv.zip\n",
    "curl https://s3.amazonaws.com/tripdata/202209-citibike-tripdata.csv.zip --output /tmp/202209-citibike-tripdata.csv.zip\n",
    "unzip /tmp/202209-citibike-tripdata.csv.zip\n",
    "curl https://s3.amazonaws.com/tripdata/202210-citibike-tripdata.csv.zip --output /tmp/202210-citibike-tripdata.csv.zip\n",
    "unzip /tmp/202210-citibike-tripdata.csv.zip\n",
    "curl https://s3.amazonaws.com/tripdata/202211-citibike-tripdata.csv.zip --output /tmp/202211-citibike-tripdata.csv.zip\n",
    "unzip /tmp/202211-citibike-tripdata.csv.zip\n",
    "curl https://s3.amazonaws.com/tripdata/202212-citibike-tripdata.csv.zip --output /tmp/202212-citibike-tripdata.csv.zip\n",
    "unzip /tmp/202212-citibike-tripdata.csv.zip\n",
    "curl https://s3.amazonaws.com/tripdata/202301-citibike-tripdata.csv.zip --output /tmp/202301-citibike-tripdata.csv.zip\n",
    "unzip /tmp/202301-citibike-tripdata.csv.zip\n",
    "curl https://s3.amazonaws.com/tripdata/202302-citibike-tripdata.csv.zip --output /tmp/202302-citibike-tripdata.csv.zip\n",
    "unzip /tmp/202302-citibike-tripdata.csv.zip\n",
    "curl https://s3.amazonaws.com/tripdata/202303-citibike-tripdata.csv.zip --output /tmp/202303-citibike-tripdata.csv.zip\n",
    "unzip /tmp/202303-citibike-tripdata.csv.zip\n",
    "curl https://s3.amazonaws.com/tripdata/202304-citibike-tripdata.csv.zip --output /tmp/202304-citibike-tripdata.csv.zip\n",
    "unzip /tmp/202304-citibike-tripdata.csv.zip\n",
    "curl https://s3.amazonaws.com/tripdata/202305-citibike-tripdata.csv.zip --output /tmp/202305-citibike-tripdata.csv.zip\n",
    "unzip /tmp/202305-citibike-tripdata.csv.zip\n",
    "curl https://s3.amazonaws.com/tripdata/202306-citibike-tripdata.csv.zip --output /tmp/202306-citibike-tripdata.csv.zip\n",
    "unzip /tmp/202306-citibike-tripdata.csv.zip\n",
    "curl https://s3.amazonaws.com/tripdata/202307-citibike-tripdata.csv.zip --output /tmp/202307-citibike-tripdata.csv.zip\n",
    "unzip /tmp/202307-citibike-tripdata.csv.zip"
   ]
  },
  {
   "cell_type": "code",
   "execution_count": 0,
   "metadata": {
    "application/vnd.databricks.v1+cell": {
     "cellMetadata": {
      "byteLimit": 2048000,
      "rowLimit": 10000
     },
     "inputWidgets": {},
     "nuid": "d466d1ca-b610-4425-a2ef-df835e841dd1",
     "showTitle": false,
     "title": ""
    }
   },
   "outputs": [
    {
     "output_type": "execute_result",
     "data": {
      "text/plain": [
       "True"
      ]
     },
     "execution_count": 2,
     "metadata": {},
     "output_type": "execute_result"
    }
   ],
   "source": [
    "dbutils.fs.mv(\"file:/databricks/driver/202201-citibike-tripdata.csv\", \"dbfs:/tmp/202201-citibike-tripdata.csv\")\n",
    "dbutils.fs.mv(\"file:/databricks/driver/202202-citibike-tripdata.csv\", \"dbfs:/tmp/202202-citibike-tripdata.csv\")\n",
    "dbutils.fs.mv(\"file:/databricks/driver/202203-citibike-tripdata.csv\", \"dbfs:/tmp/202203-citibike-tripdata.csv\")\n",
    "dbutils.fs.mv(\"file:/databricks/driver/202204-citibike-tripdata.csv\", \"dbfs:/tmp/202204-citibike-tripdata.csv\")\n",
    "dbutils.fs.mv(\"file:/databricks/driver/202205-citibike-tripdata.csv\", \"dbfs:/tmp/202205-citibike-tripdata.csv\")\n",
    "dbutils.fs.mv(\"file:/databricks/driver/202206-citbike-tripdata.csv\", \"dbfs:/tmp/202206-citbike-tripdata.csv\")\n",
    "dbutils.fs.mv(\"file:/databricks/driver/202207-citbike-tripdata.csv\", \"dbfs:/tmp/202207-citbike-tripdata.csv\")\n",
    "dbutils.fs.mv(\"file:/databricks/driver/202208-citibike-tripdata.csv\", \"dbfs:/tmp/202208-citibike-tripdata.csv\")\n",
    "dbutils.fs.mv(\"file:/databricks/driver/202209-citibike-tripdata.csv\", \"dbfs:/tmp/202209-citibike-tripdata.csv\")\n",
    "dbutils.fs.mv(\"file:/databricks/driver/202210-citibike-tripdata.csv\", \"dbfs:/tmp/202210-citibike-tripdata.csv\")\n",
    "dbutils.fs.mv(\"file:/databricks/driver/202211-citibike-tripdata.csv\", \"dbfs:/tmp/202211-citibike-tripdata.csv\")\n",
    "dbutils.fs.mv(\"file:/databricks/driver/202212-citibike-tripdata.csv\", \"dbfs:/tmp/202212-citibike-tripdata.csv\")\n",
    "dbutils.fs.mv(\"file:/databricks/driver/202301-citibike-tripdata.csv\", \"dbfs:/tmp/202301-citibike-tripdata.csv\")\n",
    "dbutils.fs.mv(\"file:/databricks/driver/202302-citibike-tripdata.csv\", \"dbfs:/tmp/202302-citibike-tripdata.csv\")\n",
    "dbutils.fs.mv(\"file:/databricks/driver/202303-citibike-tripdata.csv\", \"dbfs:/tmp/202303-citibike-tripdata.csv\")\n",
    "dbutils.fs.mv(\"file:/databricks/driver/202304-citibike-tripdata.csv\", \"dbfs:/tmp/202304-citibike-tripdata.csv\")\n",
    "dbutils.fs.mv(\"file:/databricks/driver/202305-citibike-tripdata.csv\", \"dbfs:/tmp/202305-citibike-tripdata.csv\")\n",
    "dbutils.fs.mv(\"file:/databricks/driver/202306-citibike-tripdata.csv\", \"dbfs:/tmp/202306-citibike-tripdata.csv\")\n",
    "dbutils.fs.mv(\"file:/databricks/driver/202307-citibike-tripdata.csv\", \"dbfs:/tmp/202307-citibike-tripdata.csv\")"
   ]
  },
  {
   "cell_type": "code",
   "execution_count": 0,
   "metadata": {
    "application/vnd.databricks.v1+cell": {
     "cellMetadata": {
      "byteLimit": 2048000,
      "rowLimit": 10000
     },
     "inputWidgets": {},
     "nuid": "3c7fdbed-b552-4f51-bc1a-07f1562ba579",
     "showTitle": false,
     "title": ""
    }
   },
   "outputs": [],
   "source": [
    "rawdata202201 = spark.read.format(\"csv\").option(\"header\", True).load(\"/tmp/202201-citibike-tripdata.csv\")\n",
    "rawdata202202 = spark.read.format(\"csv\").option(\"header\", True).load(\"/tmp/202202-citibike-tripdata.csv\")\n",
    "rawdata202203 = spark.read.format(\"csv\").option(\"header\", True).load(\"/tmp/202203-citibike-tripdata.csv\")\n",
    "rawdata202204 = spark.read.format(\"csv\").option(\"header\", True).load(\"/tmp/202204-citibike-tripdata.csv\")\n",
    "rawdata202205 = spark.read.format(\"csv\").option(\"header\", True).load(\"/tmp/202205-citibike-tripdata.csv\")\n",
    "rawdata202206 = spark.read.format(\"csv\").option(\"header\", True).load(\"/tmp/202206-citbike-tripdata.csv\")\n",
    "rawdata202207 = spark.read.format(\"csv\").option(\"header\", True).load(\"/tmp/202207-citbike-tripdata.csv\")\n",
    "rawdata202208 = spark.read.format(\"csv\").option(\"header\", True).load(\"/tmp/202208-citibike-tripdata.csv\")\n",
    "rawdata202209 = spark.read.format(\"csv\").option(\"header\", True).load(\"/tmp/202209-citibike-tripdata.csv\")\n",
    "rawdata202210 = spark.read.format(\"csv\").option(\"header\", True).load(\"/tmp/202210-citibike-tripdata.csv\")\n",
    "rawdata202211 = spark.read.format(\"csv\").option(\"header\", True).load(\"/tmp/202211-citibike-tripdata.csv\")\n",
    "rawdata202212 = spark.read.format(\"csv\").option(\"header\", True).load(\"/tmp/202212-citibike-tripdata.csv\")\n",
    "rawdata202301 = spark.read.format(\"csv\").option(\"header\", True).load(\"/tmp/202301-citibike-tripdata.csv\")\n",
    "rawdata202302 = spark.read.format(\"csv\").option(\"header\", True).load(\"/tmp/202302-citibike-tripdata.csv\")\n",
    "rawdata202303 = spark.read.format(\"csv\").option(\"header\", True).load(\"/tmp/202303-citibike-tripdata.csv\")\n",
    "rawdata202304 = spark.read.format(\"csv\").option(\"header\", True).load(\"/tmp/202304-citibike-tripdata.csv\")\n",
    "rawdata202305 = spark.read.format(\"csv\").option(\"header\", True).load(\"/tmp/202305-citibike-tripdata.csv\")\n",
    "rawdata202306 = spark.read.format(\"csv\").option(\"header\", True).load(\"/tmp/202306-citibike-tripdata.csv\")\n",
    "rawdata202307 = spark.read.format(\"csv\").option(\"header\", True).load(\"/tmp/202307-citibike-tripdata.csv\")"
   ]
  },
  {
   "cell_type": "code",
   "execution_count": 0,
   "metadata": {
    "application/vnd.databricks.v1+cell": {
     "cellMetadata": {
      "byteLimit": 2048000,
      "rowLimit": 10000
     },
     "inputWidgets": {},
     "nuid": "96d0c52e-6e12-47b5-a585-7e20df7abf22",
     "showTitle": false,
     "title": ""
    }
   },
   "outputs": [],
   "source": [
    "# display(rawdata202302.summary())"
   ]
  },
  {
   "cell_type": "code",
   "execution_count": 0,
   "metadata": {
    "application/vnd.databricks.v1+cell": {
     "cellMetadata": {
      "byteLimit": 2048000,
      "rowLimit": 10000
     },
     "inputWidgets": {},
     "nuid": "24451737-352a-4ef7-b639-ad683dc7e7fe",
     "showTitle": false,
     "title": ""
    }
   },
   "outputs": [],
   "source": [
    "totalrawdata = rawdata202201.unionAll(rawdata202202).unionAll(rawdata202203).unionAll(rawdata202204).unionAll(rawdata202205).unionAll(rawdata202206).unionAll(rawdata202207).unionAll(rawdata202208).unionAll(rawdata202209).unionAll(rawdata202210).unionAll(rawdata202211).unionAll(rawdata202212).unionAll(rawdata202301).unionAll(rawdata202302).unionAll(rawdata202303).unionAll(rawdata202304).unionAll(rawdata202305).unionAll(rawdata202306).unionAll(rawdata202307)\n",
    "# display(totalrawdata.cache().count())"
   ]
  },
  {
   "cell_type": "code",
   "execution_count": 0,
   "metadata": {
    "application/vnd.databricks.v1+cell": {
     "cellMetadata": {
      "byteLimit": 2048000,
      "rowLimit": 10000
     },
     "inputWidgets": {},
     "nuid": "d4c24a42-76e0-4551-b5e8-7fe71758aba5",
     "showTitle": false,
     "title": ""
    }
   },
   "outputs": [
    {
     "output_type": "display_data",
     "data": {
      "text/html": [
       "<style scoped>\n",
       "  .table-result-container {\n",
       "    max-height: 300px;\n",
       "    overflow: auto;\n",
       "  }\n",
       "  table, th, td {\n",
       "    border: 1px solid black;\n",
       "    border-collapse: collapse;\n",
       "  }\n",
       "  th, td {\n",
       "    padding: 5px;\n",
       "  }\n",
       "  th {\n",
       "    text-align: left;\n",
       "  }\n",
       "</style><div class='table-result-container'><table class='table-result'><thead style='background-color: white'><tr><th>started_at</th><th>ended_at</th><th>started_at_ts</th><th>ended_at_ts</th></tr></thead><tbody><tr><td>2022-01-18 08:23:52</td><td>2022-01-18 08:28:18</td><td>2022-01-18T08:23:52Z</td><td>2022-01-18T08:28:18Z</td></tr><tr><td>2022-01-21 09:03:22</td><td>2022-01-21 09:05:44</td><td>2022-01-21T09:03:22Z</td><td>2022-01-21T09:05:44Z</td></tr><tr><td>2022-01-22 14:28:32</td><td>2022-01-22 14:53:18</td><td>2022-01-22T14:28:32Z</td><td>2022-01-22T14:53:18Z</td></tr><tr><td>2022-01-19 14:49:47</td><td>2022-01-19 14:54:02</td><td>2022-01-19T14:49:47Z</td><td>2022-01-19T14:54:02Z</td></tr><tr><td>2022-01-16 14:36:06</td><td>2022-01-16 14:44:06</td><td>2022-01-16T14:36:06Z</td><td>2022-01-16T14:44:06Z</td></tr></tbody></table></div>"
      ]
     },
     "metadata": {
      "application/vnd.databricks.v1+output": {
       "addedWidgets": {},
       "aggData": [],
       "aggError": "",
       "aggOverflow": false,
       "aggSchema": [],
       "aggSeriesLimitReached": false,
       "aggType": "",
       "arguments": {},
       "columnCustomDisplayInfos": {},
       "data": [
        [
         "2022-01-18 08:23:52",
         "2022-01-18 08:28:18",
         "2022-01-18T08:23:52Z",
         "2022-01-18T08:28:18Z"
        ],
        [
         "2022-01-21 09:03:22",
         "2022-01-21 09:05:44",
         "2022-01-21T09:03:22Z",
         "2022-01-21T09:05:44Z"
        ],
        [
         "2022-01-22 14:28:32",
         "2022-01-22 14:53:18",
         "2022-01-22T14:28:32Z",
         "2022-01-22T14:53:18Z"
        ],
        [
         "2022-01-19 14:49:47",
         "2022-01-19 14:54:02",
         "2022-01-19T14:49:47Z",
         "2022-01-19T14:54:02Z"
        ],
        [
         "2022-01-16 14:36:06",
         "2022-01-16 14:44:06",
         "2022-01-16T14:36:06Z",
         "2022-01-16T14:44:06Z"
        ]
       ],
       "datasetInfos": [],
       "dbfsResultPath": null,
       "isJsonSchema": true,
       "metadata": {},
       "overflow": false,
       "plotOptions": {
        "customPlotOptions": {},
        "displayType": "table",
        "pivotAggregation": null,
        "pivotColumns": null,
        "xColumns": null,
        "yColumns": null
       },
       "removedWidgets": [],
       "schema": [
        {
         "metadata": "{}",
         "name": "started_at",
         "type": "\"string\""
        },
        {
         "metadata": "{}",
         "name": "ended_at",
         "type": "\"string\""
        },
        {
         "metadata": "{}",
         "name": "started_at_ts",
         "type": "\"timestamp\""
        },
        {
         "metadata": "{}",
         "name": "ended_at_ts",
         "type": "\"timestamp\""
        }
       ],
       "type": "table"
      }
     },
     "output_type": "display_data"
    },
    {
     "output_type": "display_data",
     "data": {
      "text/plain": [
       "StructType([StructField('started_at', StringType(), True), StructField('ended_at', StringType(), True), StructField('started_at_ts', TimestampType(), True), StructField('ended_at_ts', TimestampType(), True)])"
      ]
     },
     "metadata": {},
     "output_type": "display_data"
    }
   ],
   "source": [
    "from pyspark.sql.functions import *\n",
    "nonullstotal = totalrawdata.na.drop(subset=[\"started_at\", \"ended_at\"])\n",
    "ts_total = nonullstotal.select(\"started_at\", \"ended_at\").withColumn(\"started_at_ts\", col(\"started_at\").cast(\"timestamp\")).withColumn(\"ended_at_ts\", col(\"ended_at\").cast(\"timestamp\"))\n",
    "display(ts_total.limit(5))\n",
    "# display(ts_total.count())\n",
    "display(ts_total.schema)\n",
    "# ts_total = nonullstotal.withColumn(\"started_at_ts\", to_timestamp(col(\"started_at\"), \"yyyy-MM-dd hh:mm:ss\")).withColumn(\"ended_at_ts\", to_timestamp(col(\"ended_at\"), \"yyyy-MM-dd hh:mm:ss\"))"
   ]
  },
  {
   "cell_type": "code",
   "execution_count": 0,
   "metadata": {
    "application/vnd.databricks.v1+cell": {
     "cellMetadata": {
      "byteLimit": 2048000,
      "rowLimit": 10000
     },
     "inputWidgets": {},
     "nuid": "75106b57-5e07-42ee-90e7-ec628f13f9e3",
     "showTitle": false,
     "title": ""
    }
   },
   "outputs": [],
   "source": [
    "# display(ts_total.summary())"
   ]
  },
  {
   "cell_type": "code",
   "execution_count": 0,
   "metadata": {
    "application/vnd.databricks.v1+cell": {
     "cellMetadata": {
      "byteLimit": 2048000,
      "rowLimit": 10000
     },
     "inputWidgets": {},
     "nuid": "c5a7b414-5072-422a-9193-cd971140ea9f",
     "showTitle": false,
     "title": ""
    }
   },
   "outputs": [
    {
     "output_type": "display_data",
     "data": {
      "text/html": [
       "<style scoped>\n",
       "  .table-result-container {\n",
       "    max-height: 300px;\n",
       "    overflow: auto;\n",
       "  }\n",
       "  table, th, td {\n",
       "    border: 1px solid black;\n",
       "    border-collapse: collapse;\n",
       "  }\n",
       "  th, td {\n",
       "    padding: 5px;\n",
       "  }\n",
       "  th {\n",
       "    text-align: left;\n",
       "  }\n",
       "</style><div class='table-result-container'><table class='table-result'><thead style='background-color: white'><tr><th>started_at</th><th>ended_at</th><th>started_at_ts</th><th>ended_at_ts</th><th>date</th></tr></thead><tbody><tr><td>2022-01-18 08:23:52</td><td>2022-01-18 08:28:18</td><td>2022-01-18T08:23:52Z</td><td>2022-01-18T08:28:18Z</td><td>2022-01-18</td></tr><tr><td>2022-01-21 09:03:22</td><td>2022-01-21 09:05:44</td><td>2022-01-21T09:03:22Z</td><td>2022-01-21T09:05:44Z</td><td>2022-01-21</td></tr><tr><td>2022-01-22 14:28:32</td><td>2022-01-22 14:53:18</td><td>2022-01-22T14:28:32Z</td><td>2022-01-22T14:53:18Z</td><td>2022-01-22</td></tr><tr><td>2022-01-19 14:49:47</td><td>2022-01-19 14:54:02</td><td>2022-01-19T14:49:47Z</td><td>2022-01-19T14:54:02Z</td><td>2022-01-19</td></tr><tr><td>2022-01-16 14:36:06</td><td>2022-01-16 14:44:06</td><td>2022-01-16T14:36:06Z</td><td>2022-01-16T14:44:06Z</td><td>2022-01-16</td></tr><tr><td>2022-01-28 23:20:01</td><td>2022-01-28 23:32:18</td><td>2022-01-28T23:20:01Z</td><td>2022-01-28T23:32:18Z</td><td>2022-01-28</td></tr><tr><td>2022-01-28 17:12:46</td><td>2022-01-28 17:27:03</td><td>2022-01-28T17:12:46Z</td><td>2022-01-28T17:27:03Z</td><td>2022-01-28</td></tr><tr><td>2022-01-04 22:12:48</td><td>2022-01-04 22:18:27</td><td>2022-01-04T22:12:48Z</td><td>2022-01-04T22:18:27Z</td><td>2022-01-04</td></tr><tr><td>2022-01-08 11:34:22</td><td>2022-01-08 11:43:14</td><td>2022-01-08T11:34:22Z</td><td>2022-01-08T11:43:14Z</td><td>2022-01-08</td></tr><tr><td>2022-01-26 19:04:18</td><td>2022-01-26 19:09:05</td><td>2022-01-26T19:04:18Z</td><td>2022-01-26T19:09:05Z</td><td>2022-01-26</td></tr></tbody></table></div>"
      ]
     },
     "metadata": {
      "application/vnd.databricks.v1+output": {
       "addedWidgets": {},
       "aggData": [],
       "aggError": "",
       "aggOverflow": false,
       "aggSchema": [],
       "aggSeriesLimitReached": false,
       "aggType": "",
       "arguments": {},
       "columnCustomDisplayInfos": {},
       "data": [
        [
         "2022-01-18 08:23:52",
         "2022-01-18 08:28:18",
         "2022-01-18T08:23:52Z",
         "2022-01-18T08:28:18Z",
         "2022-01-18"
        ],
        [
         "2022-01-21 09:03:22",
         "2022-01-21 09:05:44",
         "2022-01-21T09:03:22Z",
         "2022-01-21T09:05:44Z",
         "2022-01-21"
        ],
        [
         "2022-01-22 14:28:32",
         "2022-01-22 14:53:18",
         "2022-01-22T14:28:32Z",
         "2022-01-22T14:53:18Z",
         "2022-01-22"
        ],
        [
         "2022-01-19 14:49:47",
         "2022-01-19 14:54:02",
         "2022-01-19T14:49:47Z",
         "2022-01-19T14:54:02Z",
         "2022-01-19"
        ],
        [
         "2022-01-16 14:36:06",
         "2022-01-16 14:44:06",
         "2022-01-16T14:36:06Z",
         "2022-01-16T14:44:06Z",
         "2022-01-16"
        ],
        [
         "2022-01-28 23:20:01",
         "2022-01-28 23:32:18",
         "2022-01-28T23:20:01Z",
         "2022-01-28T23:32:18Z",
         "2022-01-28"
        ],
        [
         "2022-01-28 17:12:46",
         "2022-01-28 17:27:03",
         "2022-01-28T17:12:46Z",
         "2022-01-28T17:27:03Z",
         "2022-01-28"
        ],
        [
         "2022-01-04 22:12:48",
         "2022-01-04 22:18:27",
         "2022-01-04T22:12:48Z",
         "2022-01-04T22:18:27Z",
         "2022-01-04"
        ],
        [
         "2022-01-08 11:34:22",
         "2022-01-08 11:43:14",
         "2022-01-08T11:34:22Z",
         "2022-01-08T11:43:14Z",
         "2022-01-08"
        ],
        [
         "2022-01-26 19:04:18",
         "2022-01-26 19:09:05",
         "2022-01-26T19:04:18Z",
         "2022-01-26T19:09:05Z",
         "2022-01-26"
        ]
       ],
       "datasetInfos": [],
       "dbfsResultPath": null,
       "isJsonSchema": true,
       "metadata": {},
       "overflow": false,
       "plotOptions": {
        "customPlotOptions": {},
        "displayType": "table",
        "pivotAggregation": null,
        "pivotColumns": null,
        "xColumns": null,
        "yColumns": null
       },
       "removedWidgets": [],
       "schema": [
        {
         "metadata": "{}",
         "name": "started_at",
         "type": "\"string\""
        },
        {
         "metadata": "{}",
         "name": "ended_at",
         "type": "\"string\""
        },
        {
         "metadata": "{}",
         "name": "started_at_ts",
         "type": "\"timestamp\""
        },
        {
         "metadata": "{}",
         "name": "ended_at_ts",
         "type": "\"timestamp\""
        },
        {
         "metadata": "{}",
         "name": "date",
         "type": "\"string\""
        }
       ],
       "type": "table"
      }
     },
     "output_type": "display_data"
    }
   ],
   "source": [
    "date_total = ts_total.withColumn(\"date\", substring(\"started_at\", 0, 10))\n",
    "display(date_total.limit(10))"
   ]
  },
  {
   "cell_type": "code",
   "execution_count": 0,
   "metadata": {
    "application/vnd.databricks.v1+cell": {
     "cellMetadata": {
      "byteLimit": 2048000,
      "rowLimit": 10000
     },
     "inputWidgets": {},
     "nuid": "2852e073-9e38-415f-a3a4-9c123f8614fb",
     "showTitle": false,
     "title": ""
    }
   },
   "outputs": [
    {
     "output_type": "display_data",
     "data": {
      "text/html": [
       "<style scoped>\n",
       "  .table-result-container {\n",
       "    max-height: 300px;\n",
       "    overflow: auto;\n",
       "  }\n",
       "  table, th, td {\n",
       "    border: 1px solid black;\n",
       "    border-collapse: collapse;\n",
       "  }\n",
       "  th, td {\n",
       "    padding: 5px;\n",
       "  }\n",
       "  th {\n",
       "    text-align: left;\n",
       "  }\n",
       "</style><div class='table-result-container'><table class='table-result'><thead style='background-color: white'><tr><th>date</th><th>count</th></tr></thead><tbody><tr><td>2022-01-01</td><td>20895</td></tr><tr><td>2022-01-02</td><td>44234</td></tr><tr><td>2022-01-03</td><td>34126</td></tr><tr><td>2022-01-04</td><td>37879</td></tr><tr><td>2022-01-05</td><td>35080</td></tr><tr><td>2022-01-06</td><td>46004</td></tr><tr><td>2022-01-07</td><td>17838</td></tr><tr><td>2022-01-08</td><td>25129</td></tr><tr><td>2022-01-09</td><td>22088</td></tr><tr><td>2022-01-10</td><td>35717</td></tr><tr><td>2022-01-11</td><td>27704</td></tr><tr><td>2022-01-12</td><td>41636</td></tr><tr><td>2022-01-13</td><td>51798</td></tr><tr><td>2022-01-14</td><td>46837</td></tr><tr><td>2022-01-15</td><td>23717</td></tr><tr><td>2022-01-16</td><td>21588</td></tr><tr><td>2022-01-17</td><td>29887</td></tr><tr><td>2022-01-18</td><td>44045</td></tr><tr><td>2022-01-19</td><td>55371</td></tr><tr><td>2022-01-20</td><td>34901</td></tr></tbody></table></div>"
      ]
     },
     "metadata": {
      "application/vnd.databricks.v1+output": {
       "addedWidgets": {},
       "aggData": [],
       "aggError": "",
       "aggOverflow": false,
       "aggSchema": [],
       "aggSeriesLimitReached": false,
       "aggType": "",
       "arguments": {},
       "columnCustomDisplayInfos": {},
       "data": [
        [
         "2022-01-01",
         20895
        ],
        [
         "2022-01-02",
         44234
        ],
        [
         "2022-01-03",
         34126
        ],
        [
         "2022-01-04",
         37879
        ],
        [
         "2022-01-05",
         35080
        ],
        [
         "2022-01-06",
         46004
        ],
        [
         "2022-01-07",
         17838
        ],
        [
         "2022-01-08",
         25129
        ],
        [
         "2022-01-09",
         22088
        ],
        [
         "2022-01-10",
         35717
        ],
        [
         "2022-01-11",
         27704
        ],
        [
         "2022-01-12",
         41636
        ],
        [
         "2022-01-13",
         51798
        ],
        [
         "2022-01-14",
         46837
        ],
        [
         "2022-01-15",
         23717
        ],
        [
         "2022-01-16",
         21588
        ],
        [
         "2022-01-17",
         29887
        ],
        [
         "2022-01-18",
         44045
        ],
        [
         "2022-01-19",
         55371
        ],
        [
         "2022-01-20",
         34901
        ]
       ],
       "datasetInfos": [],
       "dbfsResultPath": null,
       "isJsonSchema": true,
       "metadata": {},
       "overflow": false,
       "plotOptions": {
        "customPlotOptions": {},
        "displayType": "table",
        "pivotAggregation": null,
        "pivotColumns": null,
        "xColumns": null,
        "yColumns": null
       },
       "removedWidgets": [],
       "schema": [
        {
         "metadata": "{}",
         "name": "date",
         "type": "\"string\""
        },
        {
         "metadata": "{}",
         "name": "count",
         "type": "\"long\""
        }
       ],
       "type": "table"
      }
     },
     "output_type": "display_data"
    }
   ],
   "source": [
    "date_count = date_total.groupBy(\"date\").count().orderBy(\"date\")\n",
    "display(date_count.cache().limit(20))\n",
    "# date_count_ordered = date_total.groupBy(\"date\").count().orderBy(desc(\"count\"))\n",
    "# display(date_count_ordered.limit(20))"
   ]
  },
  {
   "cell_type": "code",
   "execution_count": 0,
   "metadata": {
    "application/vnd.databricks.v1+cell": {
     "cellMetadata": {
      "byteLimit": 2048000,
      "rowLimit": 10000
     },
     "inputWidgets": {},
     "nuid": "343aa0bf-e3e9-44d4-84d6-cc2a0cbdc50b",
     "showTitle": false,
     "title": ""
    }
   },
   "outputs": [
    {
     "output_type": "display_data",
     "data": {
      "text/html": [
       "<style scoped>\n",
       "  .table-result-container {\n",
       "    max-height: 300px;\n",
       "    overflow: auto;\n",
       "  }\n",
       "  table, th, td {\n",
       "    border: 1px solid black;\n",
       "    border-collapse: collapse;\n",
       "  }\n",
       "  th, td {\n",
       "    padding: 5px;\n",
       "  }\n",
       "  th {\n",
       "    text-align: left;\n",
       "  }\n",
       "</style><div class='table-result-container'><table class='table-result'><thead style='background-color: white'><tr><th>datetime</th><th>trip_count</th></tr></thead><tbody><tr><td>2022-01-01</td><td>20895</td></tr><tr><td>2022-01-02</td><td>44234</td></tr><tr><td>2022-01-03</td><td>34126</td></tr><tr><td>2022-01-04</td><td>37879</td></tr><tr><td>2022-01-05</td><td>35080</td></tr></tbody></table></div>"
      ]
     },
     "metadata": {
      "application/vnd.databricks.v1+output": {
       "addedWidgets": {},
       "aggData": [],
       "aggError": "",
       "aggOverflow": false,
       "aggSchema": [],
       "aggSeriesLimitReached": false,
       "aggType": "",
       "arguments": {},
       "columnCustomDisplayInfos": {},
       "data": [
        [
         "2022-01-01",
         20895
        ],
        [
         "2022-01-02",
         44234
        ],
        [
         "2022-01-03",
         34126
        ],
        [
         "2022-01-04",
         37879
        ],
        [
         "2022-01-05",
         35080
        ]
       ],
       "datasetInfos": [],
       "dbfsResultPath": null,
       "isJsonSchema": true,
       "metadata": {},
       "overflow": false,
       "plotOptions": {
        "customPlotOptions": {},
        "displayType": "table",
        "pivotAggregation": null,
        "pivotColumns": null,
        "xColumns": null,
        "yColumns": null
       },
       "removedWidgets": [],
       "schema": [
        {
         "metadata": "{}",
         "name": "datetime",
         "type": "\"string\""
        },
        {
         "metadata": "{}",
         "name": "trip_count",
         "type": "\"long\""
        }
       ],
       "type": "table"
      }
     },
     "output_type": "display_data"
    }
   ],
   "source": [
    "date_count = date_count.withColumnRenamed(\"count\", \"trip_count\").withColumnRenamed(\"date\", \"datetime\")\n",
    "display(date_count.limit(5))"
   ]
  },
  {
   "cell_type": "code",
   "execution_count": 0,
   "metadata": {
    "application/vnd.databricks.v1+cell": {
     "cellMetadata": {
      "byteLimit": 2048000,
      "rowLimit": 10000
     },
     "inputWidgets": {},
     "nuid": "f8ef0b65-298b-4d95-9f8d-eedd1977cde6",
     "showTitle": false,
     "title": ""
    }
   },
   "outputs": [
    {
     "output_type": "display_data",
     "data": {
      "text/plain": [
       "StructType([StructField('datetime', StringType(), True), StructField('tempmax', DoubleType(), True), StructField('tempmin', DoubleType(), True), StructField('temp', DoubleType(), True), StructField('feelslikemax', DoubleType(), True), StructField('feelslikemin', DoubleType(), True), StructField('feelslike', DoubleType(), True), StructField('dew', DoubleType(), True), StructField('humidity', DoubleType(), True), StructField('precip', DoubleType(), True), StructField('precipprob', DoubleType(), True), StructField('precipcover', DoubleType(), True), StructField('snow', DoubleType(), True), StructField('snowdepth', DoubleType(), True), StructField('windgust', DoubleType(), True), StructField('windspeed', DoubleType(), True), StructField('winddir', DoubleType(), True), StructField('cloudcover', DoubleType(), True), StructField('visibility', DoubleType(), True), StructField('solarradiation', DoubleType(), True), StructField('uvindex', DoubleType(), True), StructField('conditions', StringType(), True)])"
      ]
     },
     "metadata": {},
     "output_type": "display_data"
    },
    {
     "output_type": "display_data",
     "data": {
      "text/html": [
       "<style scoped>\n",
       "  .table-result-container {\n",
       "    max-height: 300px;\n",
       "    overflow: auto;\n",
       "  }\n",
       "  table, th, td {\n",
       "    border: 1px solid black;\n",
       "    border-collapse: collapse;\n",
       "  }\n",
       "  th, td {\n",
       "    padding: 5px;\n",
       "  }\n",
       "  th {\n",
       "    text-align: left;\n",
       "  }\n",
       "</style><div class='table-result-container'><table class='table-result'><thead style='background-color: white'><tr><th>summary</th><th>datetime</th><th>tempmax</th><th>tempmin</th><th>temp</th><th>feelslikemax</th><th>feelslikemin</th><th>feelslike</th><th>dew</th><th>humidity</th><th>precip</th><th>precipprob</th><th>precipcover</th><th>snow</th><th>snowdepth</th><th>windgust</th><th>windspeed</th><th>winddir</th><th>cloudcover</th><th>visibility</th><th>solarradiation</th><th>uvindex</th><th>conditions</th></tr></thead><tbody><tr><td>count</td><td>577</td><td>577</td><td>577</td><td>577</td><td>577</td><td>577</td><td>577</td><td>577</td><td>577</td><td>577</td><td>577</td><td>577</td><td>577</td><td>577</td><td>576</td><td>577</td><td>577</td><td>577</td><td>577</td><td>577</td><td>577</td><td>577</td></tr><tr><td>mean</td><td>null</td><td>17.663258232235698</td><td>10.263778162911624</td><td>13.70901213171575</td><td>17.369324090121317</td><td>8.478509532062391</td><td>12.758405545927207</td><td>5.534835355285965</td><td>60.564818024263474</td><td>1.9972287694974025</td><td>50.433275563258235</td><td>9.850034662045065</td><td>0.09064124783362218</td><td>0.16187175043327542</td><td>50.419965277777784</td><td>20.71854419410747</td><td>195.76273830155958</td><td>42.81767764298093</td><td>15.0109185441941</td><td>166.5022530329291</td><td>6.369150779896014</td><td>null</td></tr><tr><td>stddev</td><td>null</td><td>9.589490872764063</td><td>9.037148733338443</td><td>9.09195435086733</td><td>10.664266253051068</td><td>11.013220710288948</td><td>10.57229589582405</td><td>9.859112554559365</td><td>14.697219349504598</td><td>5.5906202025944305</td><td>50.041505014816344</td><td>16.003820702636286</td><td>0.6410298012907704</td><td>1.1299591150033044</td><td>18.00058165240444</td><td>6.437071395807839</td><td>101.5770842423778</td><td>31.15112802510022</td><td>1.9429007224538704</td><td>90.68910651260119</td><td>2.7852447540697707</td><td>null</td></tr><tr><td>min</td><td>2022-01-01</td><td>-9.3</td><td>-14.2</td><td>-11.6</td><td>-15.8</td><td>-26.0</td><td>-20.2</td><td>-21.2</td><td>24.3</td><td>0.0</td><td>0.0</td><td>0.0</td><td>0.0</td><td>0.0</td><td>13.3</td><td>8.0</td><td>0.2</td><td>0.1</td><td>4.1</td><td>7.5</td><td>0.0</td><td>Clear</td></tr><tr><td>25%</td><td>null</td><td>10.0</td><td>3.4</td><td>6.7</td><td>9.3</td><td>0.1</td><td>4.2</td><td>-2.2</td><td>49.7</td><td>0.0</td><td>0.0</td><td>0.0</td><td>0.0</td><td>0.0</td><td>35.3</td><td>16.2</td><td>89.2</td><td>14.3</td><td>15.1</td><td>95.4</td><td>5.0</td><td>null</td></tr><tr><td>50%</td><td>null</td><td>17.9</td><td>9.9</td><td>13.5</td><td>17.9</td><td>8.5</td><td>13.5</td><td>6.2</td><td>59.6</td><td>0.008</td><td>100.0</td><td>4.17</td><td>0.0</td><td>0.0</td><td>48.9</td><td>20.0</td><td>233.6</td><td>36.6</td><td>15.9</td><td>160.3</td><td>7.0</td><td>null</td></tr><tr><td>75%</td><td>null</td><td>26.1</td><td>18.0</td><td>21.6</td><td>26.1</td><td>18.0</td><td>21.6</td><td>14.0</td><td>71.2</td><td>0.862</td><td>100.0</td><td>12.5</td><td>0.0</td><td>0.0</td><td>63.5</td><td>24.0</td><td>274.4</td><td>69.3</td><td>16.0</td><td>242.0</td><td>9.0</td><td>null</td></tr><tr><td>max</td><td>2023-07-31</td><td>36.1</td><td>26.7</td><td>30.7</td><td>41.0</td><td>29.5</td><td>34.7</td><td>24.0</td><td>95.4</td><td>60.941</td><td>100.0</td><td>100.0</td><td>8.1</td><td>16.1</td><td>96.1</td><td>46.4</td><td>359.8</td><td>100.0</td><td>16.0</td><td>353.1</td><td>10.0</td><td>Snow, Rain, Partially cloudy</td></tr></tbody></table></div>"
      ]
     },
     "metadata": {
      "application/vnd.databricks.v1+output": {
       "addedWidgets": {},
       "aggData": [],
       "aggError": "",
       "aggOverflow": false,
       "aggSchema": [],
       "aggSeriesLimitReached": false,
       "aggType": "",
       "arguments": {},
       "columnCustomDisplayInfos": {},
       "data": [
        [
         "count",
         "577",
         "577",
         "577",
         "577",
         "577",
         "577",
         "577",
         "577",
         "577",
         "577",
         "577",
         "577",
         "577",
         "577",
         "576",
         "577",
         "577",
         "577",
         "577",
         "577",
         "577",
         "577"
        ],
        [
         "mean",
         null,
         "17.663258232235698",
         "10.263778162911624",
         "13.70901213171575",
         "17.369324090121317",
         "8.478509532062391",
         "12.758405545927207",
         "5.534835355285965",
         "60.564818024263474",
         "1.9972287694974025",
         "50.433275563258235",
         "9.850034662045065",
         "0.09064124783362218",
         "0.16187175043327542",
         "50.419965277777784",
         "20.71854419410747",
         "195.76273830155958",
         "42.81767764298093",
         "15.0109185441941",
         "166.5022530329291",
         "6.369150779896014",
         null
        ],
        [
         "stddev",
         null,
         "9.589490872764063",
         "9.037148733338443",
         "9.09195435086733",
         "10.664266253051068",
         "11.013220710288948",
         "10.57229589582405",
         "9.859112554559365",
         "14.697219349504598",
         "5.5906202025944305",
         "50.041505014816344",
         "16.003820702636286",
         "0.6410298012907704",
         "1.1299591150033044",
         "18.00058165240444",
         "6.437071395807839",
         "101.5770842423778",
         "31.15112802510022",
         "1.9429007224538704",
         "90.68910651260119",
         "2.7852447540697707",
         null
        ],
        [
         "min",
         "2022-01-01",
         "-9.3",
         "-14.2",
         "-11.6",
         "-15.8",
         "-26.0",
         "-20.2",
         "-21.2",
         "24.3",
         "0.0",
         "0.0",
         "0.0",
         "0.0",
         "0.0",
         "13.3",
         "8.0",
         "0.2",
         "0.1",
         "4.1",
         "7.5",
         "0.0",
         "Clear"
        ],
        [
         "25%",
         null,
         "10.0",
         "3.4",
         "6.7",
         "9.3",
         "0.1",
         "4.2",
         "-2.2",
         "49.7",
         "0.0",
         "0.0",
         "0.0",
         "0.0",
         "0.0",
         "35.3",
         "16.2",
         "89.2",
         "14.3",
         "15.1",
         "95.4",
         "5.0",
         null
        ],
        [
         "50%",
         null,
         "17.9",
         "9.9",
         "13.5",
         "17.9",
         "8.5",
         "13.5",
         "6.2",
         "59.6",
         "0.008",
         "100.0",
         "4.17",
         "0.0",
         "0.0",
         "48.9",
         "20.0",
         "233.6",
         "36.6",
         "15.9",
         "160.3",
         "7.0",
         null
        ],
        [
         "75%",
         null,
         "26.1",
         "18.0",
         "21.6",
         "26.1",
         "18.0",
         "21.6",
         "14.0",
         "71.2",
         "0.862",
         "100.0",
         "12.5",
         "0.0",
         "0.0",
         "63.5",
         "24.0",
         "274.4",
         "69.3",
         "16.0",
         "242.0",
         "9.0",
         null
        ],
        [
         "max",
         "2023-07-31",
         "36.1",
         "26.7",
         "30.7",
         "41.0",
         "29.5",
         "34.7",
         "24.0",
         "95.4",
         "60.941",
         "100.0",
         "100.0",
         "8.1",
         "16.1",
         "96.1",
         "46.4",
         "359.8",
         "100.0",
         "16.0",
         "353.1",
         "10.0",
         "Snow, Rain, Partially cloudy"
        ]
       ],
       "datasetInfos": [],
       "dbfsResultPath": null,
       "isJsonSchema": true,
       "metadata": {},
       "overflow": false,
       "plotOptions": {
        "customPlotOptions": {},
        "displayType": "table",
        "pivotAggregation": null,
        "pivotColumns": null,
        "xColumns": null,
        "yColumns": null
       },
       "removedWidgets": [],
       "schema": [
        {
         "metadata": "{}",
         "name": "summary",
         "type": "\"string\""
        },
        {
         "metadata": "{}",
         "name": "datetime",
         "type": "\"string\""
        },
        {
         "metadata": "{}",
         "name": "tempmax",
         "type": "\"string\""
        },
        {
         "metadata": "{}",
         "name": "tempmin",
         "type": "\"string\""
        },
        {
         "metadata": "{}",
         "name": "temp",
         "type": "\"string\""
        },
        {
         "metadata": "{}",
         "name": "feelslikemax",
         "type": "\"string\""
        },
        {
         "metadata": "{}",
         "name": "feelslikemin",
         "type": "\"string\""
        },
        {
         "metadata": "{}",
         "name": "feelslike",
         "type": "\"string\""
        },
        {
         "metadata": "{}",
         "name": "dew",
         "type": "\"string\""
        },
        {
         "metadata": "{}",
         "name": "humidity",
         "type": "\"string\""
        },
        {
         "metadata": "{}",
         "name": "precip",
         "type": "\"string\""
        },
        {
         "metadata": "{}",
         "name": "precipprob",
         "type": "\"string\""
        },
        {
         "metadata": "{}",
         "name": "precipcover",
         "type": "\"string\""
        },
        {
         "metadata": "{}",
         "name": "snow",
         "type": "\"string\""
        },
        {
         "metadata": "{}",
         "name": "snowdepth",
         "type": "\"string\""
        },
        {
         "metadata": "{}",
         "name": "windgust",
         "type": "\"string\""
        },
        {
         "metadata": "{}",
         "name": "windspeed",
         "type": "\"string\""
        },
        {
         "metadata": "{}",
         "name": "winddir",
         "type": "\"string\""
        },
        {
         "metadata": "{}",
         "name": "cloudcover",
         "type": "\"string\""
        },
        {
         "metadata": "{}",
         "name": "visibility",
         "type": "\"string\""
        },
        {
         "metadata": "{}",
         "name": "solarradiation",
         "type": "\"string\""
        },
        {
         "metadata": "{}",
         "name": "uvindex",
         "type": "\"string\""
        },
        {
         "metadata": "{}",
         "name": "conditions",
         "type": "\"string\""
        }
       ],
       "type": "table"
      }
     },
     "output_type": "display_data"
    }
   ],
   "source": [
    "raw_weather_data = spark.read.format(\"csv\").option(\"header\", True).load(\"/FileStore/weather_data.csv\")\n",
    "needed_weather_data = raw_weather_data.drop(\"name\", \"preciptype\", \"sealevelpressure\", \"solarenergy\", \"severerisk\", \"sunrise\", \"sunset\", \"moonphase\", \"description\", \"icon\", \"stations\")\n",
    "needed_weather_data = (needed_weather_data.withColumn(\"tempmax\", expr(\"CAST(tempmax as DOUBLE) as tempmax\")).withColumn(\"tempmin\", expr(\"CAST(tempmin as DOUBLE) as tempmin\")).withColumn(\"temp\", expr(\"CAST(temp as DOUBLE) as temp\")).withColumn(\"feelslikemax\", expr(\"CAST(feelslikemax as DOUBLE) as feelslikemax\")).withColumn(\"feelslikemin\", expr(\"CAST(feelslikemin as DOUBLE) as feelslikemin\")).withColumn(\"feelslike\", expr(\"CAST(feelslike as DOUBLE) as feelslike\")).withColumn(\"dew\", expr(\"CAST(dew as DOUBLE) as dew\")).withColumn(\"humidity\", expr(\"CAST(humidity as DOUBLE) as humidity\")).withColumn(\"precip\", expr(\"CAST(precip as DOUBLE) as precip\")).withColumn(\"precipprob\", expr(\"CAST(precipprob as DOUBLE) as precipprob\")).withColumn(\"precipcover\", expr(\"CAST(precipcover as DOUBLE) as precipcover\")).withColumn(\"snow\", expr(\"CAST(snow as DOUBLE) as snow\")).withColumn(\"snowdepth\", expr(\"CAST(snowdepth as DOUBLE) as snowdepth\")).withColumn(\"windgust\", expr(\"CAST(windgust as DOUBLE) as windgust\")).withColumn(\"windspeed\", expr(\"CAST(windspeed as DOUBLE) as windspeed\")).withColumn(\"winddir\", expr(\"CAST(winddir as DOUBLE) as winddir\")).withColumn(\"cloudcover\", expr(\"CAST(cloudcover as DOUBLE) as cloudcover\")).withColumn(\"visibility\", expr(\"CAST(visibility as DOUBLE) as visibility\")).withColumn(\"solarradiation\", expr(\"CAST(solarradiation as DOUBLE) as solarradiation\")).withColumn(\"uvindex\", expr(\"CAST(uvindex as DOUBLE) as uvindex\")))\n",
    "display(needed_weather_data.schema)\n",
    "display(needed_weather_data.summary())"
   ]
  },
  {
   "cell_type": "code",
   "execution_count": 0,
   "metadata": {
    "application/vnd.databricks.v1+cell": {
     "cellMetadata": {
      "byteLimit": 2048000,
      "rowLimit": 10000
     },
     "inputWidgets": {},
     "nuid": "b6204956-4391-496d-b4ba-7efea5db0409",
     "showTitle": false,
     "title": ""
    }
   },
   "outputs": [],
   "source": [
    "merged_data = date_count.join(needed_weather_data, date_count.datetime == needed_weather_data.datetime, \"inner\").drop(needed_weather_data.datetime)\n",
    "merged_data = merged_data.filter(merged_data.datetime != \"2022-01-01\")\n",
    "# merged_data.write.save(\"/FileStore/merged_data\")\n",
    "merged_data.write.format(\"parquet\").mode(\"overwrite\").save(\"/temp/merged_data/\")"
   ]
  },
  {
   "cell_type": "code",
   "execution_count": 0,
   "metadata": {
    "application/vnd.databricks.v1+cell": {
     "cellMetadata": {
      "byteLimit": 2048000,
      "rowLimit": 10000
     },
     "inputWidgets": {},
     "nuid": "6428617c-af9e-4382-a701-86dd35a55d20",
     "showTitle": false,
     "title": ""
    }
   },
   "outputs": [
    {
     "output_type": "display_data",
     "data": {
      "text/plain": [
       "364"
      ]
     },
     "metadata": {},
     "output_type": "display_data"
    },
    {
     "output_type": "display_data",
     "data": {
      "text/plain": [
       "212"
      ]
     },
     "metadata": {},
     "output_type": "display_data"
    }
   ],
   "source": [
    "from pyspark.sql.functions import *\n",
    "data = spark.read.format(\"parquet\").load(\"/temp/merged_data/\")\n",
    "data = data.withColumn(\"datetime\", expr(\"CAST(datetime as DATE) as datetime\"))\n",
    "training_data = data.filter(col(\"datetime\").between(\"2022-01-02\", \"2022-12-31\"))\n",
    "testing_data = data.filter(col(\"datetime\").between(\"2023-01-01\", \"2023-07-31\"))\n",
    "display(training_data.cache().count())\n",
    "display(testing_data.cache().count())"
   ]
  },
  {
   "cell_type": "code",
   "execution_count": 0,
   "metadata": {
    "application/vnd.databricks.v1+cell": {
     "cellMetadata": {
      "byteLimit": 2048000,
      "rowLimit": 10000
     },
     "inputWidgets": {},
     "nuid": "c9fa17b3-24fd-466e-8ecb-652aae3d335e",
     "showTitle": false,
     "title": ""
    }
   },
   "outputs": [],
   "source": []
  },
  {
   "cell_type": "markdown",
   "metadata": {
    "application/vnd.databricks.v1+cell": {
     "cellMetadata": {},
     "inputWidgets": {},
     "nuid": "122f1731-f2ee-4352-ae6a-c581fc7e62a9",
     "showTitle": false,
     "title": ""
    }
   },
   "source": [
    "## 2. Build ML Pipeline using Training Data"
   ]
  },
  {
   "cell_type": "code",
   "execution_count": 0,
   "metadata": {
    "application/vnd.databricks.v1+cell": {
     "cellMetadata": {
      "byteLimit": 2048000,
      "rowLimit": 10000
     },
     "inputWidgets": {},
     "nuid": "f37f3841-87cd-40eb-a55d-e2a45fb72ff4",
     "showTitle": false,
     "title": ""
    }
   },
   "outputs": [],
   "source": [
    "from pyspark.ml.feature import *\n",
    "\n",
    "numeric_cols = [] \n",
    "vector_cols = []\n",
    "for col in training_data.columns:\n",
    "  if col != 'datetime' and col != \"trip_count\" and col != \"conditions\":\n",
    "    numeric_cols.append(col)\n",
    "    vector_cols.append(col)\n",
    "vector_cols.append(\"conditions\")\n",
    "indexer = StringIndexer(inputCol=\"conditions\", outputCol=\"conditions_indexed\")\n",
    "# training_data_indexed = indexer.fit(training_data).transform(training_data)\n",
    "# display(training_data_indexed.limit(5))\n",
    "encoder = OneHotEncoder(inputCols=[\"conditions_indexed\"], outputCols=[\"conditions_vec\"])\n",
    "# training_data_encoded = encoder.fit(training_data_indexed).transform(training_data_indexed)\n",
    "# display(training_data_encoded.limit(5))\n",
    "# display(training_data_encoded.schema)"
   ]
  },
  {
   "cell_type": "code",
   "execution_count": 0,
   "metadata": {
    "application/vnd.databricks.v1+cell": {
     "cellMetadata": {
      "byteLimit": 2048000,
      "rowLimit": 10000
     },
     "inputWidgets": {},
     "nuid": "69485ce7-6b59-4cd4-bcb6-27bb178a7053",
     "showTitle": false,
     "title": ""
    }
   },
   "outputs": [],
   "source": [
    "assemblers = [VectorAssembler(inputCols=[col], outputCol=col + \"_vec\") for col in numeric_cols]\n",
    "scalers = [MinMaxScaler(inputCol=col + \"_vec\", outputCol=col + \"_scaled\") for col in vector_cols]\n",
    "# for i in assemblers:\n",
    "#     training_data_encoded = i.transform(training_data_encoded)\n",
    "# display(training_data_encoded.limit(20))\n",
    "# for j in scalers:\n",
    "#     training_data_encoded = j.fit(training_data_encoded).transform(training_data_encoded)\n",
    "# display(training_data_encoded.limit(20))"
   ]
  },
  {
   "cell_type": "code",
   "execution_count": 0,
   "metadata": {
    "application/vnd.databricks.v1+cell": {
     "cellMetadata": {
      "byteLimit": 2048000,
      "rowLimit": 10000
     },
     "inputWidgets": {},
     "nuid": "710416d0-e4d4-499f-b967-d198dd98d6a4",
     "showTitle": false,
     "title": ""
    }
   },
   "outputs": [],
   "source": [
    "assemble_features = VectorAssembler(inputCols = [(col + \"_scaled\") for col in vector_cols], outputCol = \"features\")\n",
    "# training_data_encoded = assemble_features.transform(training_data_encoded)\n",
    "# display(training_data_encoded.limit(5))"
   ]
  },
  {
   "cell_type": "code",
   "execution_count": 0,
   "metadata": {
    "application/vnd.databricks.v1+cell": {
     "cellMetadata": {
      "byteLimit": 2048000,
      "rowLimit": 10000
     },
     "inputWidgets": {},
     "nuid": "dc0aa672-161d-4234-9352-e715f394e0be",
     "showTitle": false,
     "title": ""
    }
   },
   "outputs": [
    {
     "output_type": "display_data",
     "data": {
      "application/vnd.jupyter.widget-view+json": {
       "model_id": "dfa3a2099bc547a6a86986f20bd358de",
       "version_major": 2,
       "version_minor": 0
      },
      "text/plain": [
       "Downloading artifacts:   0%|          | 0/212 [00:00<?, ?it/s]"
      ]
     },
     "metadata": {},
     "output_type": "display_data"
    },
    {
     "output_type": "display_data",
     "data": {
      "application/vnd.jupyter.widget-view+json": {
       "model_id": "4ea43abdab4540f6b77d4b1b882c2225",
       "version_major": 2,
       "version_minor": 0
      },
      "text/plain": [
       "Uploading artifacts:   0%|          | 0/4 [00:00<?, ?it/s]"
      ]
     },
     "metadata": {},
     "output_type": "display_data"
    }
   ],
   "source": [
    "from pyspark.ml import Pipeline\n",
    "from pyspark.ml.regression import DecisionTreeRegressor\n",
    "from pyspark.ml.evaluation import RegressionEvaluator\n",
    "dt = DecisionTreeRegressor(featuresCol=\"features\", labelCol=\"trip_count\", maxDepth=4, maxBins=99)\n",
    "# dt_model = dt.fit(training_data_encoded)\n",
    "pipeline = Pipeline(stages=[indexer, encoder, *assemblers, *scalers, assemble_features, dt])\n",
    "dt_model = pipeline.fit(training_data)\n",
    "\n"
   ]
  },
  {
   "cell_type": "code",
   "execution_count": 0,
   "metadata": {
    "application/vnd.databricks.v1+cell": {
     "cellMetadata": {
      "byteLimit": 2048000,
      "rowLimit": 10000
     },
     "inputWidgets": {},
     "nuid": "379dd35b-fbe1-40cd-b677-c55bddd5da1c",
     "showTitle": false,
     "title": ""
    }
   },
   "outputs": [],
   "source": [
    "# display(dt_model.featureImportances.toArray())"
   ]
  },
  {
   "cell_type": "code",
   "execution_count": 0,
   "metadata": {
    "application/vnd.databricks.v1+cell": {
     "cellMetadata": {
      "byteLimit": 2048000,
      "rowLimit": 10000
     },
     "inputWidgets": {},
     "nuid": "fc0f9a9b-a9d6-45df-99f6-1541a7c4b149",
     "showTitle": false,
     "title": ""
    }
   },
   "outputs": [
    {
     "output_type": "display_data",
     "data": {
      "text/plain": [
       "8872.820655334708"
      ]
     },
     "metadata": {},
     "output_type": "display_data"
    },
    {
     "output_type": "display_data",
     "data": {
      "text/plain": [
       "0.8927129869282844"
      ]
     },
     "metadata": {},
     "output_type": "display_data"
    }
   ],
   "source": [
    "pred_train = dt_model.transform(training_data)\n",
    "evaluator = RegressionEvaluator(predictionCol = \"prediction\", labelCol = \"trip_count\", metricName = \"mae\")\n",
    "mae = evaluator.evaluate(pred_train)\n",
    "display(mae)\n",
    "r2_evaluator = RegressionEvaluator(predictionCol='prediction', labelCol='trip_count', metricName='r2')\n",
    "r2 = r2_evaluator.evaluate(pred_train)\n",
    "display(r2)"
   ]
  },
  {
   "cell_type": "markdown",
   "metadata": {
    "application/vnd.databricks.v1+cell": {
     "cellMetadata": {},
     "inputWidgets": {},
     "nuid": "339bc069-d8f8-4c5e-8095-e63680985cd2",
     "showTitle": false,
     "title": ""
    }
   },
   "source": [
    "## 3. Evaluate ML Pipeline using Testing Data"
   ]
  },
  {
   "cell_type": "code",
   "execution_count": 0,
   "metadata": {
    "application/vnd.databricks.v1+cell": {
     "cellMetadata": {
      "byteLimit": 2048000,
      "rowLimit": 10000
     },
     "inputWidgets": {},
     "nuid": "b1207950-6146-4281-83ff-e4d9ab970611",
     "showTitle": false,
     "title": ""
    }
   },
   "outputs": [],
   "source": [
    "# numeric_cols = [] \n",
    "# vector_cols = []\n",
    "# for col in training_data.columns:\n",
    "#   if col != 'datetime' and col != \"trip_count\" and col != \"conditions\":\n",
    "#     numeric_cols.append(col)\n",
    "#     vector_cols.append(col)\n",
    "# vector_cols.append(\"conditions\")\n",
    "# indexer = StringIndexer(inputCol=\"conditions\", outputCol=\"conditions_indexed\")\n",
    "# testing_data_indexed = indexer.fit(testing_data).transform(testing_data)\n",
    "# display(testing_data_indexed.limit(5))\n",
    "# encoder = OneHotEncoder(inputCols=[\"conditions_indexed\"], outputCols=[\"conditions_vec\"])\n",
    "# testing_data_encoded = encoder.fit(testing_data_indexed).transform(testing_data_indexed)\n",
    "# display(testing_data_encoded.limit(5))\n",
    "# display(testing_data_encoded.schema)"
   ]
  },
  {
   "cell_type": "code",
   "execution_count": 0,
   "metadata": {
    "application/vnd.databricks.v1+cell": {
     "cellMetadata": {
      "byteLimit": 2048000,
      "rowLimit": 10000
     },
     "inputWidgets": {},
     "nuid": "48f37c77-de20-4555-a0da-0d1b615e70f9",
     "showTitle": false,
     "title": ""
    }
   },
   "outputs": [],
   "source": [
    "# assemblers = [VectorAssembler(inputCols=[col], outputCol=col + \"_vec\") for col in numeric_cols]\n",
    "# scalers = [MinMaxScaler(inputCol=col + \"_vec\", outputCol=col + \"_scaled\") for col in vector_cols]\n",
    "# for i in assemblers:\n",
    "#     testing_data_encoded = i.transform(testing_data_encoded)\n",
    "# display(testing_data_encoded.limit(20))\n",
    "# for j in scalers:\n",
    "#     testing_data_encoded = j.fit(testing_data_encoded).transform(testing_data_encoded)\n",
    "# display(testing_data_encoded.limit(20))"
   ]
  },
  {
   "cell_type": "code",
   "execution_count": 0,
   "metadata": {
    "application/vnd.databricks.v1+cell": {
     "cellMetadata": {
      "byteLimit": 2048000,
      "rowLimit": 10000
     },
     "inputWidgets": {},
     "nuid": "1610c3ca-a4aa-4175-bd95-8c397b35d318",
     "showTitle": false,
     "title": ""
    }
   },
   "outputs": [],
   "source": [
    "# assemble_features = VectorAssembler(inputCols = [(col + \"_scaled\") for col in vector_cols], outputCol = \"features\")\n",
    "# testing_data_encoded = assemble_features.transform(testing_data_encoded)\n",
    "# display(testing_data_encoded.limit(5))"
   ]
  },
  {
   "cell_type": "code",
   "execution_count": 0,
   "metadata": {
    "application/vnd.databricks.v1+cell": {
     "cellMetadata": {
      "byteLimit": 2048000,
      "rowLimit": 10000
     },
     "inputWidgets": {},
     "nuid": "0d214ec5-5271-4dfd-8de7-d5f115ae10c7",
     "showTitle": false,
     "title": ""
    }
   },
   "outputs": [
    {
     "output_type": "display_data",
     "data": {
      "text/plain": [
       "11840.501332155914"
      ]
     },
     "metadata": {},
     "output_type": "display_data"
    },
    {
     "output_type": "display_data",
     "data": {
      "text/plain": [
       "0.7657299641047977"
      ]
     },
     "metadata": {},
     "output_type": "display_data"
    }
   ],
   "source": [
    "from pyspark.sql.functions import *\n",
    "pred_test = dt_model.transform(testing_data)\n",
    "evaluator = RegressionEvaluator(predictionCol = \"prediction\", labelCol = \"trip_count\", metricName = \"mae\")\n",
    "mae = evaluator.evaluate(pred_test)\n",
    "display(mae)\n",
    "r2_evaluator = RegressionEvaluator(predictionCol='prediction', labelCol='trip_count', metricName='r2')\n",
    "r2 = r2_evaluator.evaluate(pred_test)\n",
    "display(r2)"
   ]
  },
  {
   "cell_type": "code",
   "execution_count": 0,
   "metadata": {
    "application/vnd.databricks.v1+cell": {
     "cellMetadata": {
      "byteLimit": 2048000,
      "rowLimit": 10000
     },
     "inputWidgets": {},
     "nuid": "60d1d77a-b2ac-42ed-a153-027637c43752",
     "showTitle": false,
     "title": ""
    }
   },
   "outputs": [],
   "source": []
  }
 ],
 "metadata": {
  "application/vnd.databricks.v1+notebook": {
   "dashboards": [],
   "language": "python",
   "notebookMetadata": {
    "mostRecentlyExecutedCommandWithImplicitDF": {
     "commandId": 1199798383275319,
     "dataframes": [
      "_sqldf"
     ]
    },
    "pythonIndentUnit": 4
   },
   "notebookName": "assignment_2_WEIYILEI",
   "widgets": {}
  }
 },
 "nbformat": 4,
 "nbformat_minor": 0
}
