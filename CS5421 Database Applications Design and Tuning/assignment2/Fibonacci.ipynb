{
 "cells": [
  {
   "cell_type": "markdown",
   "id": "3a4e7522",
   "metadata": {},
   "source": [
    "# Isolation Levels and *(Uselessly)* Concurrent Computation of Fibonacci Numbers "
   ]
  },
  {
   "cell_type": "markdown",
   "id": "0ab9f0d4",
   "metadata": {},
   "source": [
    "## 1. Isolation Levels"
   ]
  },
  {
   "cell_type": "markdown",
   "source": [
    "### 1.1. Introduction\n",
    "WEIYILEI A0276571W"
   ],
   "metadata": {
    "collapsed": false
   }
  },
  {
   "cell_type": "markdown",
   "id": "7cbf2db2",
   "metadata": {},
   "source": [
    "Isolation in databases means preventing concurrent transactions from interfering and ensuring data consistency and integrity as if the transactions were executed one after the other.\n",
    "\n",
    "The purpose of serializability levels in database management systems, in general, and in PostgreSQL, in particular, is to tune the degree of isolation between concurrent transactions in search of a trade-off between consistency, isolation, and performance. \n",
    "\n",
    "Most database management systems support four isolation levels: read uncommitted, read committed, repeatable read, and serialisable."
   ]
  },
  {
   "cell_type": "markdown",
   "id": "babc88a6",
   "metadata": {},
   "source": [
    "### 1.2. Isolation Levels in PostgreSQL"
   ]
  },
  {
   "cell_type": "markdown",
   "id": "e2fe25e4",
   "metadata": {},
   "source": [
    "PostgreSQL allows the declaration of each of them but only implements three.\n",
    "\n",
    "In theory, the read uncommitted level allows a transaction to see changes made by other transactions even before those changes are committed, potentially leading to dirty reads. In PostgreSQL, however, it is implemented at a read committed level.\n",
    "\n",
    "The read committed level allows a transaction to see only data committed before the transaction begins. A transaction can also see changes made by other transactions that commit while the transaction is still in progress. This level prevents dirty reads, but not non-repeatable reads or phantom reads.\n",
    "\n",
    "The repeatable read level transaction operates with a snapshot of the database taken at the start of the transaction. It prevents dirty and non-repeatable reads, ensuring that all reads within a transaction see a consistent database snapshot. However, it does not always prevent phantom reads.\n",
    "\n",
    "The serialisable level This is the highest isolation level and provides strict serializability. It acts as if transactions are executed serially, one after the other, rather than concurrently. This level prevents dirty, non-repeatable, and phantom reads, ensuring total isolation from other transactions.\n",
    "\n",
    "Choosing the wrong isolation level may improve throughput but compromise data integrity. At higher isolation levels,  the database management system may abort and roll back some transactions to prevent anomalies, potentially reducing concurrency. "
   ]
  },
  {
   "cell_type": "markdown",
   "id": "08ff69ad",
   "metadata": {},
   "source": [
    "We use the ```psycopg2``` library."
   ]
  },
  {
   "cell_type": "code",
   "execution_count": 1,
   "id": "677526d8",
   "metadata": {},
   "outputs": [],
   "source": [
    "import psycopg2"
   ]
  },
  {
   "cell_type": "markdown",
   "id": "934db082",
   "metadata": {},
   "source": [
    "In psql or pgAdmin4, create a database."
   ]
  },
  {
   "cell_type": "markdown",
   "id": "e5357299",
   "metadata": {},
   "source": [
    "Set the following postgres database, user, password, and port number, accordingly."
   ]
  },
  {
   "cell_type": "code",
   "execution_count": 2,
   "id": "0ef32f6b",
   "metadata": {},
   "outputs": [],
   "source": [
    "database = \"asg2\"\n",
    "user = \"postgres\"\n",
    "password = \"weiyilei0708\"\n",
    "port = \"5432\""
   ]
  },
  {
   "cell_type": "markdown",
   "id": "b611b360",
   "metadata": {},
   "source": [
    "## 2. Computing Fibonacci Numbers"
   ]
  },
  {
   "cell_type": "markdown",
   "id": "e1328568",
   "metadata": {},
   "source": [
    "### 2.1 A Table of Fibonacci Numbers"
   ]
  },
  {
   "cell_type": "markdown",
   "id": "d7e7b647",
   "metadata": {},
   "source": [
    "We propose to program concurrent transactions compute the sequence of Fibonacci numbers by completing a shared table."
   ]
  },
  {
   "cell_type": "markdown",
   "id": "dbe08a9c",
   "metadata": {},
   "source": [
    "Let us create a table ```fibonacci``` and insert the first, 0, and second, 1, Fibonacci numbers and their rank in the respective columns. The ```transaction``` column shall later indicate which transaction has calculated the corresponding entry. The two initial values are given and not calculated."
   ]
  },
  {
   "cell_type": "code",
   "execution_count": 3,
   "id": "c7cbbe84",
   "metadata": {},
   "outputs": [
    {
     "name": "stdout",
     "output_type": "stream",
     "text": [
      "1 0 None\n",
      "2 1 None\n"
     ]
    }
   ],
   "source": [
    "# Connect to the database\n",
    "conn = psycopg2.connect(database=database, user=user, password=password, host=\"localhost\", port=port)\n",
    "# The proper way to begin, end (commit or rollback) a transaction and open and close a cursor in psycopg2  \n",
    "# is to use in use a connection as a context manager (using the with statement.)\n",
    "# The begin and commit or rollback of the transaction, open and close of the cursor are implicit.\n",
    "with conn:\n",
    "    with conn.cursor() as cur:\n",
    "        cur.execute(\"CREATE TABLE IF NOT EXISTS fibonacci (rank SERIAL, number NUMERIC, transaction INT); \\\n",
    "        ALTER SEQUENCE fibonacci_rank_seq RESTART WITH 1; \\\n",
    "        DELETE FROM fibonacci; \\\n",
    "        INSERT INTO fibonacci (number, transaction) VALUES (0, null), (1, null);\")\n",
    "        cur.execute(\"SELECT * FROM fibonacci ORDER BY number ASC;\")\n",
    "        rows = cur.fetchall()\n",
    "\n",
    "for rank, number, transaction in rows:\n",
    "    print(rank, number, transaction)\n",
    "    \n",
    "conn.close()"
   ]
  },
  {
   "cell_type": "markdown",
   "id": "71836a35",
   "metadata": {},
   "source": [
    "### 2.2. Preparing the Threads and Concurrent Transactions"
   ]
  },
  {
   "cell_type": "markdown",
   "id": "5e6bee14",
   "metadata": {},
   "source": [
    "We use the ```threading``` library."
   ]
  },
  {
   "cell_type": "code",
   "execution_count": 4,
   "id": "94e6ab9c",
   "metadata": {},
   "outputs": [],
   "source": [
    "import threading"
   ]
  },
  {
   "cell_type": "raw",
   "id": "51ac3e37",
   "metadata": {},
   "source": [
    "Each transaction computes one Fibonacci number. Each transaction runs in its own thread. The transactions may run concurrently. "
   ]
  },
  {
   "cell_type": "code",
   "execution_count": 5,
   "id": "2bc77a64",
   "metadata": {},
   "outputs": [],
   "source": [
    "def fibonacci(transaction_number):\n",
    " try:\n",
    "    # The thread connects to the database\n",
    "    conn = psycopg2.connect(database=database, user=user, password=password, host=\"localhost\", port=port)\n",
    "    \n",
    "    ###################################################\n",
    "    conn.set_isolation_level(psycopg2.extensions.ISOLATION_LEVEL_SERIALIZABLE)\n",
    "    ###################################################\n",
    "    \n",
    "    cur = conn.cursor()\n",
    "    # A transaction starts\n",
    "    cur.execute(\"BEGIN;\") \n",
    "    \n",
    "    # The transaction finds the highest ranked Fibonacci number already computed  \n",
    "    cur.execute(\"SELECT f.rank, f.number FROM fibonacci f \\\n",
    "    WHERE f.rank >= ALL (SELECT f1.rank FROM fibonacci f1);\")\n",
    "    row = cur.fetchone()\n",
    "    rank_highest = row[0]\n",
    "    fib_highest = row[1]\n",
    "    \n",
    "    # Depending on your machine the threads may run sequentially, \n",
    "    # in which case you may want to introduce a random delay to run them concurrently \n",
    "    # and observe the anomalies at lower isolation levels\n",
    "    import random\n",
    "    import time\n",
    "    time.sleep(random.randint(0, 10))\n",
    "    \n",
    "    # The transaction finds the next highest ranked Fibonacci element. \n",
    "    # It is not guaranteed to be the highest ranked minus one as the transactions may not be properly serialised. \n",
    "    cur.execute(\"SELECT f.rank, f.number  FROM fibonacci f \\\n",
    "            WHERE f.rank >= ALL (SELECT f1.rank FROM fibonacci f1 \\\n",
    "                WHERE f1.rank < ANY (SELECT f2.rank FROM fibonacci f2)) \\\n",
    "                AND f.rank < ANY (SELECT f3.rank FROM fibonacci f3);\")\n",
    "    row = cur.fetchone()\n",
    "    rank_second_highest = row[0]\n",
    "    fib_second_highest = row[1] \n",
    "    \n",
    "    # Add the newly computed Fibonacci number with the next rank.\n",
    "    # We do not use the serial sequence to generate the rank \n",
    "    # as it does not behave according to the isolation level (you can try to do so)\n",
    "    cur.execute(\"INSERT INTO fibonacci (rank, number, transaction) (SELECT \"\n",
    "                + str(rank_highest + 1)+ \", \"\n",
    "                + str(fib_highest + fib_second_highest) \n",
    "                + \", \" + str(transaction_number)\n",
    "                + \");\")\n",
    "    conn.commit()\n",
    "    \n",
    " except psycopg2.Error as e:\n",
    "    #print(\"\\nTransaction \" + str(transaction_number) + \" aborted and rolled back: \", e.pgerror)\n",
    "    if conn is not None:\n",
    "        conn.rollback()\n",
    "        conn.close()\n",
    "          \n",
    " finally:\n",
    "    if cur is not None and not cur.closed:\n",
    "        cur.close()\n",
    "    if conn is not None and not conn.closed:\n",
    "        conn.close()"
   ]
  },
  {
   "cell_type": "markdown",
   "id": "e21e12ec",
   "metadata": {},
   "source": [
    "### 2.3. Running the Threads"
   ]
  },
  {
   "cell_type": "markdown",
   "id": "19f6f423",
   "metadata": {},
   "source": [
    "We create and start *n* threads."
   ]
  },
  {
   "cell_type": "code",
   "execution_count": 6,
   "id": "1f6f4138",
   "metadata": {},
   "outputs": [],
   "source": [
    "threads = []\n",
    "n = 99\n",
    "\n",
    "for transaction_number in range(n):\n",
    "    thread = threading.Thread(target=fibonacci, args=(transaction_number,))\n",
    "    threads.append(thread)\n",
    "\n",
    "for thread in threads:\n",
    "    thread.start()\n",
    "\n",
    "for thread in threads:\n",
    "    thread.join()"
   ]
  },
  {
   "cell_type": "markdown",
   "id": "403f836e",
   "metadata": {},
   "source": [
    "### 2.4. The Results"
   ]
  },
  {
   "cell_type": "markdown",
   "id": "6a78032a",
   "metadata": {},
   "source": [
    "We finally retrieve the result computed when the concurrent transactions. Some transactions may have been committed and others aborted and rolled back. All threads have ended."
   ]
  },
  {
   "cell_type": "markdown",
   "id": "2b719e43",
   "metadata": {},
   "source": [
    "We print the content of the table *fibonacci*."
   ]
  },
  {
   "cell_type": "code",
   "execution_count": 7,
   "id": "fcc7c518",
   "metadata": {},
   "outputs": [
    {
     "name": "stdout",
     "output_type": "stream",
     "text": [
      "Fibonacci number number  1  is  0  and was calculated by transaction number  None\n",
      "Fibonacci number number  2  is  1  and was calculated by transaction number  None\n",
      "Fibonacci number number  3  is  1  and was calculated by transaction number  7\n",
      "Fibonacci number number  4  is  2  and was calculated by transaction number  14\n",
      "Fibonacci number number  5  is  3  and was calculated by transaction number  56\n",
      "Fibonacci number number  6  is  5  and was calculated by transaction number  62\n",
      "Fibonacci number number  7  is  8  and was calculated by transaction number  63\n",
      "Fibonacci number number  8  is  13  and was calculated by transaction number  53\n",
      "Fibonacci number number  9  is  21  and was calculated by transaction number  48\n",
      "Fibonacci number number  10  is  34  and was calculated by transaction number  66\n",
      "Fibonacci number number  11  is  55  and was calculated by transaction number  82\n",
      "Fibonacci number number  12  is  89  and was calculated by transaction number  74\n",
      "Fibonacci number number  13  is  144  and was calculated by transaction number  96\n",
      "Fibonacci number number  14  is  233  and was calculated by transaction number  86\n"
     ]
    }
   ],
   "source": [
    "# Connect to the database\n",
    "conn = psycopg2.connect(database=database, user=user, password=password, host=\"localhost\", port=port)\n",
    "with conn:\n",
    "    with conn.cursor() as cur:\n",
    "        cur.execute(\"SELECT * FROM fibonacci ORDER BY rank ASC;\")\n",
    "        rows = cur.fetchall()\n",
    "        \n",
    "conn.close()\n",
    "        \n",
    "for rank, number, transaction in rows:\n",
    "    print(\"Fibonacci number number \", rank, \" is \", number, \" and was calculated by transaction number \", transaction)"
   ]
  },
  {
   "cell_type": "markdown",
   "id": "b8f24308",
   "metadata": {},
   "source": [
    "### 2.5 Analysis"
   ]
  },
  {
   "cell_type": "markdown",
   "id": "c5f3fdf5",
   "metadata": {},
   "source": [
    "The final output may not match a correct Fibonacci sequence. For instance, the result may contain duplicates sequence elements or wrong Fibonnaci numbers. To observe such issues, run the code several times. The threads may be scheduled and allocated resources differently at each execution."
   ]
  },
  {
   "cell_type": "markdown",
   "id": "b4d6eaa5",
   "metadata": {},
   "source": [
    "You may have noticed that the only way for the transactions, as they are programmed, to compute a correct sequence is to run sequentially."
   ]
  },
  {
   "cell_type": "markdown",
   "id": "c9945ace",
   "metadata": {},
   "source": [
    "# 3. Questions"
   ]
  },
  {
   "cell_type": "markdown",
   "id": "4a2576bf",
   "metadata": {},
   "source": [
    "## 3.1. Question 1"
   ]
  },
  {
   "cell_type": "markdown",
   "id": "33114f04",
   "metadata": {},
   "source": [
    "In the given code, the isolation level is implicit. Call the method that sets the isolation level explicitly in the space indicated. After testing the code, cut the function call out of the main code and paste it below. "
   ]
  },
  {
   "cell_type": "markdown",
   "id": "c15ba141",
   "metadata": {},
   "source": [
    "```conn.set_isolation_level(psycopg2.extensions.ISOLATION_LEVEL_READ_COMMITTED)```"
   ]
  },
  {
   "cell_type": "markdown",
   "id": "98a3a85c",
   "metadata": {},
   "source": [
    "## 3.1. Question 2"
   ]
  },
  {
   "cell_type": "markdown",
   "id": "44bc9b93",
   "metadata": {},
   "source": [
    "Set the isolation level so that the final sequence is correct although it may contain duplicate sequence elements. Call the method that sets the isolation level accordingly in the space indicated. After testing the code, cut the function call out of the main code and paste it below. "
   ]
  },
  {
   "cell_type": "markdown",
   "id": "adcfeef3",
   "metadata": {},
   "source": [
    "```conn.set_isolation_level(psycopg2.extensions.ISOLATION_LEVEL_REPEATABLE_READ)```"
   ]
  },
  {
   "cell_type": "markdown",
   "id": "414ca7a8",
   "metadata": {},
   "source": [
    "## 3.1. Question 3"
   ]
  },
  {
   "cell_type": "markdown",
   "id": "7a06ebec",
   "metadata": {},
   "source": [
    "Set the isolation level so that the final sequence is correct. Call the method that sets the isolation level accordingly in the space indicated. After testing the code, leave the function call in the main code and copy it below. "
   ]
  },
  {
   "cell_type": "markdown",
   "id": "c36ebe96",
   "metadata": {},
   "source": [
    "```conn.set_isolation_level(psycopg2.extensions.ISOLATION_LEVEL_SERIALIZABLE)```"
   ]
  },
  {
   "cell_type": "markdown",
   "id": "5b829184",
   "metadata": {},
   "source": [
    "# Appendices"
   ]
  },
  {
   "cell_type": "markdown",
   "id": "e48fa6e8",
   "metadata": {},
   "source": [
    "The following are some possibly useful but not necessary SQL commands.\n",
    "\n",
    "You can kill all connections to PostgreSQL with following SQL code (run it for psql or pgAdmin 4.)\n",
    "\n",
    "```\n",
    "SELECT \n",
    "    pg_terminate_backend(pid) \n",
    "FROM \n",
    "    pg_stat_activity \n",
    "WHERE \n",
    "    pid <> pg_backend_pid()\n",
    "    AND datname = '<database_name>';\n",
    "```\n",
    " \n",
    "You can check the maximum number of connections to PostgreSQL with following SQL code.\n",
    "\n",
    "```\n",
    "SHOW MAX_CONNECTIONS;\n",
    "```\n",
    "\n",
    "You can change the maximum number of connections to PostgreSQL with following SQL code. You will need to restart you PostgreSQL server afterwards.\n",
    "\n",
    "```\n",
    "ALTER SYSTEM SET max_connections = <num_of_connections>;\n",
    "```"
   ]
  },
  {
   "cell_type": "code",
   "execution_count": 7,
   "id": "5b5fb294",
   "metadata": {},
   "outputs": [],
   "source": []
  }
 ],
 "metadata": {
  "kernelspec": {
   "display_name": "Python 3 (ipykernel)",
   "language": "python",
   "name": "python3"
  },
  "language_info": {
   "codemirror_mode": {
    "name": "ipython",
    "version": 3
   },
   "file_extension": ".py",
   "mimetype": "text/x-python",
   "name": "python",
   "nbconvert_exporter": "python",
   "pygments_lexer": "ipython3",
   "version": "3.11.4"
  }
 },
 "nbformat": 4,
 "nbformat_minor": 5
}
