{
 "cells": [
  {
   "cell_type": "markdown",
   "metadata": {},
   "source": [
    "<h1><center>Minimal Covers</center></h1>"
   ]
  },
  {
   "cell_type": "markdown",
   "metadata": {},
   "source": [
    "Devise and implement three Python functions that compute a minimal cover, all accessible (by the algorithm given in the lecture) minimal covers, and all possible minimal covers of a given list of functional dependencies, respectively. \n",
    "Complete the provided Jupyter Notebook using the Python 3 kernel. \n",
    "Do not change the name and the parameters of the functions in the template. \n",
    "You may add ancillary functions if necessary or convenient.\n",
    "You may import additional Python standard libraries but no external libraries.\n",
    "\n",
    "For all questions, use the following data structures.\n",
    "A functional dependency is represented as a list of two lists. For\n",
    "example, the functional dependency {A, B} → {C} is represented as [['A', 'B'], ['C']]. \n",
    "A set of functional dependencies is represented as a list of functional dependencies. \n",
    "\n",
    "Ensure that your functions process the input and produce the output in the format specified in the corresponding questions.\n",
    "\n",
    "For simplicity, you may assume that the input is always valid (e.g. no empty string, no incomplete functional dependency).\n",
    "Consider the case in which a functional dependency's left- or right-hand side is empty.\n",
    "\n",
    "The code should be readable and adequately commented.\n",
    "\n",
    "The marking team considers clarity of the code and comments, quality of the algorithm and  implementation, and correctness and efficiency of the code."
   ]
  },
  {
   "cell_type": "markdown",
   "metadata": {},
   "source": [
    "### Indicate your student number: AXXXXXXX"
   ]
  },
  {
   "cell_type": "markdown",
   "metadata": {
    "id": "nnr7px4Fw_8S"
   },
   "source": [
    "# Question 1 (4 points)\n",
    "Write a function *min_cover* that takes a list of functional dependencies as input and returns a minimal cover of the functional dependencies, for example,\n",
    "````\n",
    "min_cover([[['A'], ['B', 'C']],[['B'], ['C','D']], [['D'], ['B']], [['A','B','E'], ['F']]])\n",
    "outputs: [[['A'], ['B']], [['B'], ['C']], [['B'], ['D']], [['D'], ['B']], [['A', 'E'], ['F']]]\n",
    "````\n",
    "The results is a minimal cover, i.e. a list of functional dependencies.\n",
    "There might be more than one correct answer to this question."
   ]
  },
  {
   "cell_type": "code",
   "execution_count": 1,
   "metadata": {
    "id": "snpcm0cf0BPl"
   },
   "outputs": [],
   "source": [
    "def min_cover(fds):\n",
    "    # Your code here:\n",
    "\n",
    "    return None"
   ]
  },
  {
   "cell_type": "markdown",
   "metadata": {},
   "source": [
    "### Expected Result"
   ]
  },
  {
   "cell_type": "code",
   "execution_count": 2,
   "metadata": {},
   "outputs": [],
   "source": [
    "fds = [[['A'], ['B', 'C']],[['B'], ['C','D']], [['D'], ['B']], [['A','B','E'], ['F']]]\n",
    "\n",
    "min_cover(fds)"
   ]
  },
  {
   "cell_type": "markdown",
   "metadata": {},
   "source": [
    "**The result you get should be similar to:**\n",
    "```\n",
    "[[['A'], ['B']],\n",
    " [['B'], ['C']],\n",
    " [['B'], ['D']],\n",
    " [['D'], ['B']],\n",
    " [['A', 'E'], ['F']]]\n",
    "```"
   ]
  },
  {
   "cell_type": "markdown",
   "metadata": {
    "id": "l01R13KyznwG"
   },
   "source": [
    "# Question 2 (3 points) \n",
    "Write a function *min_covers* that takes a list of functional dependencies as input and returns all minimal covers reachable from the given list of functional dependencies, for example,\n",
    "````\n",
    "min_cover([[['A'], ['A', 'B']], [['B'], ['A','C']], [['A'], ['C']], [['A','B'], ['C']]])\n",
    "outputs: [\n",
    "            [[['A'], ['B']], [['B'], ['A']], [['B'], ['C']]],\n",
    "            [[['A'], ['B']], [['B'], ['A']], [['A'], ['C']]]\n",
    "        ]\n",
    "````\n",
    "The results is a list of minimal covers.\n",
    "Make sure that you clearly explain the rationale of your solution in comments of the code."
   ]
  },
  {
   "cell_type": "code",
   "execution_count": 3,
   "metadata": {
    "id": "S9jFQwUT0B2m"
   },
   "outputs": [],
   "source": [
    "def min_covers(fds):\n",
    "    # Your code here\n",
    "\n",
    "    return None"
   ]
  },
  {
   "cell_type": "markdown",
   "metadata": {},
   "source": [
    "### Expected Result"
   ]
  },
  {
   "cell_type": "code",
   "execution_count": 4,
   "metadata": {},
   "outputs": [],
   "source": [
    "fds = [[['A'], ['A', 'B']], [['B'], ['A','C']], [['A'], ['C']], [['A','B'], ['C']]]\n",
    "min_covers(fds)"
   ]
  },
  {
   "cell_type": "markdown",
   "metadata": {},
   "source": [
    "**The result you get should be similar to:**\n",
    "```\n",
    "[\n",
    "    [[['A'], ['B']], [['B'], ['A']], [['B'], ['C']]],\n",
    "    [[['A'], ['B']], [['B'], ['A']], [['A'], ['C']]]\n",
    "]\n",
    "```"
   ]
  },
  {
   "cell_type": "markdown",
   "metadata": {
    "id": "0oBHb-1zzxT_"
   },
   "source": [
    "# Question 3 (3 points)\n",
    "* Write a function *all_min_covers* that takes a list of functional dependencies as input and returns all minimal covers, for example,\n",
    "````\n",
    "all_min_covers([[['A'], ['B']],[['B'], ['C']], [['C'], ['A']]])\n",
    "outputs: [\n",
    "\t[[['A'], ['C']], [['B'], ['A']], [['C'], ['A']], [['A'], ['B']]],\n",
    "\t[[['B'], ['C']], [['C'], ['A']], [['A'], ['B']]],\n",
    "\t[[['C'], ['B']], [['A'], ['C']], [['C'], ['A']], [['B'], ['C']]],\n",
    "\t[[['C'], ['B']], [['A'], ['C']], [['B'], ['A']]],\n",
    "\t[[['B'], ['C']], [['A'], ['B']], [['B'], ['A']], [['C'], ['B']]]\n",
    "]\n",
    "````\n",
    "\n",
    "The results is a list of minimal covers.\n",
    "Make sure that you clearly explain the rationale of your solution in comments of the code.\n",
    "This question is challenging and not everyone may find a solution."
   ]
  },
  {
   "cell_type": "code",
   "execution_count": 5,
   "metadata": {
    "id": "8wziQnpaztbu"
   },
   "outputs": [],
   "source": [
    "def all_minimal_covers(fds):\n",
    "    # your code here\n",
    "    \n",
    "    return None"
   ]
  },
  {
   "cell_type": "markdown",
   "metadata": {},
   "source": [
    "### Expected Result"
   ]
  },
  {
   "cell_type": "code",
   "execution_count": 6,
   "metadata": {},
   "outputs": [],
   "source": [
    "fds = [[['A'], ['B']],[['B'], ['C']], [['C'], ['A']]]\n",
    "all_minimal_covers(fds)"
   ]
  },
  {
   "cell_type": "markdown",
   "metadata": {},
   "source": [
    "**The result you get should be:**\n",
    "```\n",
    "[\n",
    "\t[[['A'], ['C']], [['B'], ['A']], [['C'], ['A']], [['A'], ['B']]],\n",
    "\t[[['B'], ['C']], [['C'], ['A']], [['A'], ['B']]],\n",
    "\t[[['C'], ['B']], [['A'], ['C']], [['C'], ['A']], [['B'], ['C']]],\n",
    "\t[[['C'], ['B']], [['A'], ['C']], [['B'], ['A']]],\n",
    "\t[[['B'], ['C']], [['A'], ['B']], [['B'], ['A']], [['C'], ['B']]]\n",
    "]\n",
    "````"
   ]
  }
 ],
 "metadata": {
  "colab": {
   "provenance": []
  },
  "kernelspec": {
   "display_name": "Python 3 (ipykernel)",
   "language": "python",
   "name": "python3"
  },
  "language_info": {
   "codemirror_mode": {
    "name": "ipython",
    "version": 3
   },
   "file_extension": ".py",
   "mimetype": "text/x-python",
   "name": "python",
   "nbconvert_exporter": "python",
   "pygments_lexer": "ipython3",
   "version": "3.11.4"
  }
 },
 "nbformat": 4,
 "nbformat_minor": 4
}
